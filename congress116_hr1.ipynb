{
 "cells": [
  {
   "cell_type": "markdown",
   "id": "74adef2b-9396-405a-810b-7fc17c881f60",
   "metadata": {},
   "source": [
    "# Congress 116 H.R.\n",
    "\n",
    "This notebook will parse the relevant data for the 116th Congress. Hope to use this as a template for previous sessions and Senate.\n",
    "\n",
    "## Wishlist of data\n",
    "- Session\n",
    "- Bill ID: 'bill_id'\n",
    "- Bill word count: \n",
    "- Date of introduction: 'action_code': 'Intro-H'\n",
    "- Date of passage House:  'status': 'PASS_OVER:HOUSE'z\n",
    "- Date of passsage Senate\n",
    "- Date signed into law by president"
   ]
  },
  {
   "cell_type": "markdown",
   "id": "055876a4-1b43-4326-b287-13ca1fa3488c",
   "metadata": {},
   "source": [
    "## Bring in one bill and see what it looks like"
   ]
  },
  {
   "cell_type": "code",
   "execution_count": 1,
   "id": "033c2801-4520-42ef-9bf0-69950b5cacd0",
   "metadata": {},
   "outputs": [
    {
     "name": "stderr",
     "output_type": "stream",
     "text": [
      "/Users/derekschwabe/.pyenv/versions/3.8.5/envs/lecture_06-3.8.5/lib/python3.8/site-packages/pandas/compat/__init__.py:124: UserWarning: Could not import the lzma module. Your installed Python is incomplete. Attempting to use lzma compression will result in a RuntimeError.\n",
      "  warnings.warn(msg)\n"
     ]
    }
   ],
   "source": [
    "import json\n",
    "import pandas as pd"
   ]
  },
  {
   "cell_type": "code",
   "execution_count": 2,
   "id": "ae48f6e8-8de8-4d18-8e03-13a482dabf11",
   "metadata": {},
   "outputs": [],
   "source": [
    "file_name = 'congress/data/116/bills/hr/hr1/data.json'\n",
    "\n",
    "with open(file_name) as f:\n",
    "    hr1 = json.load(f)"
   ]
  },
  {
   "cell_type": "code",
   "execution_count": 3,
   "id": "b314b151-50c0-44d2-b817-ee44c3b93e4b",
   "metadata": {},
   "outputs": [
    {
     "data": {
      "text/plain": [
       "{'acted_at': '2019-01-03',\n",
       " 'action_code': 'Intro-H',\n",
       " 'references': [],\n",
       " 'text': 'Introduced in House',\n",
       " 'type': 'action'}"
      ]
     },
     "execution_count": 3,
     "metadata": {},
     "output_type": "execute_result"
    }
   ],
   "source": [
    "hr1['actions'][0]"
   ]
  },
  {
   "cell_type": "code",
   "execution_count": 4,
   "id": "65d4a3d3-06b3-440f-8228-7dba7343d3cd",
   "metadata": {},
   "outputs": [
    {
     "data": {
      "text/plain": [
       "dict_keys(['actions', 'amendments', 'bill_id', 'bill_type', 'by_request', 'committee_reports', 'committees', 'congress', 'cosponsors', 'enacted_as', 'history', 'introduced_at', 'number', 'official_title', 'popular_title', 'related_bills', 'short_title', 'sponsor', 'status', 'status_at', 'subjects', 'subjects_top_term', 'summary', 'titles', 'updated_at', 'url'])"
      ]
     },
     "execution_count": 4,
     "metadata": {},
     "output_type": "execute_result"
    }
   ],
   "source": [
    "hr1.keys()"
   ]
  },
  {
   "cell_type": "code",
   "execution_count": 5,
   "id": "43ab7dea-d9ed-4a5d-afde-2e8cede9d215",
   "metadata": {},
   "outputs": [
    {
     "data": {
      "text/plain": [
       "'2019-01-03'"
      ]
     },
     "execution_count": 5,
     "metadata": {},
     "output_type": "execute_result"
    }
   ],
   "source": [
    "hr1['introduced_at']"
   ]
  },
  {
   "cell_type": "code",
   "execution_count": 6,
   "id": "83844806-f754-4ae2-8804-3087e82bf690",
   "metadata": {},
   "outputs": [
    {
     "data": {
      "text/plain": [
       "'PASS_OVER:HOUSE'"
      ]
     },
     "execution_count": 6,
     "metadata": {},
     "output_type": "execute_result"
    }
   ],
   "source": [
    "hr1['status']"
   ]
  },
  {
   "cell_type": "code",
   "execution_count": 7,
   "id": "a28fe810-1d8d-485a-ba88-85340aae5f80",
   "metadata": {},
   "outputs": [
    {
     "data": {
      "text/plain": [
       "'2019-03-08T11:23:05-05:00'"
      ]
     },
     "execution_count": 7,
     "metadata": {},
     "output_type": "execute_result"
    }
   ],
   "source": [
    "hr1['status_at']"
   ]
  },
  {
   "cell_type": "code",
   "execution_count": 8,
   "id": "c8ae58d4-c5c0-4f0e-99e5-d627c086dfbe",
   "metadata": {},
   "outputs": [],
   "source": [
    "# # pretty-print hr1\n",
    "# print(json.dumps(hr1, indent = 4, sort_keys=True))"
   ]
  },
  {
   "cell_type": "markdown",
   "id": "b9807f2b-797a-47d5-8b5b-55486d7314cf",
   "metadata": {},
   "source": [
    "## Creating an empty list to store only the HR bills that were signed into law\n"
   ]
  },
  {
   "cell_type": "code",
   "execution_count": 9,
   "id": "1717129b-ba60-4c6f-88e9-605b59c2b3bf",
   "metadata": {},
   "outputs": [],
   "source": [
    "# list(range(111, 117))"
   ]
  },
  {
   "cell_type": "code",
   "execution_count": 10,
   "id": "7858f7c8-a8a3-453c-81b6-11f4cce47d6c",
   "metadata": {},
   "outputs": [],
   "source": [
    "# # A loop to go thru all the HR bills in all Congresses\n",
    "# for session in range(111, 117):\n",
    "#     directory =  f'congress/data/{session}'\n",
    "#     print(directory)\n"
   ]
  },
  {
   "cell_type": "code",
   "execution_count": 15,
   "id": "20cae3d6-ab2f-4fbe-b307-14e5cbb2bc89",
   "metadata": {},
   "outputs": [],
   "source": [
    "def pretty_print(j):\n",
    "    print(json.dumps(j, indent=2))    "
   ]
  },
  {
   "cell_type": "code",
   "execution_count": 20,
   "id": "22d2453f-8c18-427e-b32e-39bb4be3699e",
   "metadata": {},
   "outputs": [],
   "source": [
    "action_codes = ['Intro-H', 'H37300', 'E30000']"
   ]
  },
  {
   "cell_type": "code",
   "execution_count": 29,
   "id": "6a35f0c6-8f7a-4f8e-836d-688560d04bb1",
   "metadata": {},
   "outputs": [],
   "source": [
    "def filter_actions(bill):\n",
    "    return list(filter(lambda x: x['action_code'] in action_codes, bill))"
   ]
  },
  {
   "cell_type": "code",
   "execution_count": 30,
   "id": "8c921e75-85c7-4ded-a10c-9aaee7b78167",
   "metadata": {},
   "outputs": [
    {
     "data": {
      "text/plain": [
       "[{'acted_at': '2019-01-03',\n",
       "  'action_code': 'Intro-H',\n",
       "  'references': [],\n",
       "  'text': 'Introduced in House',\n",
       "  'type': 'action'},\n",
       " {'acted_at': '2019-01-10T15:11:20-05:00',\n",
       "  'action_code': 'H37300',\n",
       "  'how': 'by voice vote',\n",
       "  'references': [{'reference': 'CR H430-431', 'type': 'text'}],\n",
       "  'result': 'pass',\n",
       "  'status': 'PASS_OVER:HOUSE',\n",
       "  'suspension': None,\n",
       "  'text': 'On motion to suspend the rules and pass the bill Agreed to by voice vote.',\n",
       "  'type': 'vote',\n",
       "  'vote_type': 'vote',\n",
       "  'where': 'h'},\n",
       " {'acted_at': '2020-12-27',\n",
       "  'action_code': 'E30000',\n",
       "  'references': [],\n",
       "  'status': 'ENACTED:SIGNED',\n",
       "  'text': 'Signed by President.',\n",
       "  'type': 'signed'}]"
      ]
     },
     "execution_count": 30,
     "metadata": {},
     "output_type": "execute_result"
    }
   ],
   "source": [
    "filter_actions(hr_bills_to_keep[0]['actions'])"
   ]
  },
  {
   "cell_type": "code",
   "execution_count": 64,
   "id": "ff1d3681-83e2-45ac-9e73-685d29226507",
   "metadata": {},
   "outputs": [],
   "source": [
    "hr_bills_to_keep = []\n",
    "\n",
    "for n in range(1, 9057):\n",
    "    file_name = f'congress/data/116/bills/hr/hr{ n }/data.json'\n",
    "    try:\n",
    "        with open(file_name) as f:\n",
    "            hr_bill = json.load(f)\n",
    "        if hr_bill['status'] == 'ENACTED:SIGNED':\n",
    "            hr_bill['actions'] = filter_actions(hr_bill['actions'])\n",
    "            existing_keys = hr_bill.keys()\n",
    "            keys_to_delete = ['related_bills', 'subjects', 'subjects_top_term', 'titles', 'cosponsors', 'sponsor']\n",
    "            for key in keys_to_delete:\n",
    "                if key in existing_keys:\n",
    "                    del hr_bill[key]\n",
    "            hr_bills_to_keep.append(hr_bill)\n",
    "    except:\n",
    "        # print(f'skipping {n}, doesn\\'t exist')        \n",
    "        pass"
   ]
  },
  {
   "cell_type": "code",
   "execution_count": 71,
   "id": "c04407ae-84c9-4c91-981c-11f9b9f21123",
   "metadata": {},
   "outputs": [
    {
     "name": "stdout",
     "output_type": "stream",
     "text": [
      "https://www.congress.gov/bill/116th-congress/house-bill/133/text?r=1&s=3\n",
      "https://www.congress.gov/bill/116th-congress/house-bill/150/text?r=1&s=3\n",
      "https://www.congress.gov/bill/116th-congress/house-bill/251/text?r=1&s=3\n",
      "https://www.congress.gov/bill/116th-congress/house-bill/259/text?r=1&s=3\n",
      "https://www.congress.gov/bill/116th-congress/house-bill/263/text?r=1&s=3\n",
      "https://www.congress.gov/bill/116th-congress/house-bill/266/text?r=1&s=3\n",
      "https://www.congress.gov/bill/116th-congress/house-bill/276/text?r=1&s=3\n",
      "https://www.congress.gov/bill/116th-congress/house-bill/299/text?r=1&s=3\n",
      "https://www.congress.gov/bill/116th-congress/house-bill/430/text?r=1&s=3\n",
      "https://www.congress.gov/bill/116th-congress/house-bill/434/text?r=1&s=3\n",
      "https://www.congress.gov/bill/116th-congress/house-bill/439/text?r=1&s=3\n",
      "https://www.congress.gov/bill/116th-congress/house-bill/473/text?r=1&s=3\n",
      "https://www.congress.gov/bill/116th-congress/house-bill/504/text?r=1&s=3\n",
      "https://www.congress.gov/bill/116th-congress/house-bill/540/text?r=1&s=3\n",
      "https://www.congress.gov/bill/116th-congress/house-bill/559/text?r=1&s=3\n",
      "https://www.congress.gov/bill/116th-congress/house-bill/561/text?r=1&s=3\n",
      "https://www.congress.gov/bill/116th-congress/house-bill/583/text?r=1&s=3\n",
      "https://www.congress.gov/bill/116th-congress/house-bill/639/text?r=1&s=3\n",
      "https://www.congress.gov/bill/116th-congress/house-bill/724/text?r=1&s=3\n",
      "https://www.congress.gov/bill/116th-congress/house-bill/748/text?r=1&s=3\n",
      "https://www.congress.gov/bill/116th-congress/house-bill/776/text?r=1&s=3\n",
      "https://www.congress.gov/bill/116th-congress/house-bill/777/text?r=1&s=3\n",
      "https://www.congress.gov/bill/116th-congress/house-bill/828/text?r=1&s=3\n",
      "https://www.congress.gov/bill/116th-congress/house-bill/829/text?r=1&s=3\n",
      "https://www.congress.gov/bill/116th-congress/house-bill/831/text?r=1&s=3\n",
      "https://www.congress.gov/bill/116th-congress/house-bill/835/text?r=1&s=3\n",
      "https://www.congress.gov/bill/116th-congress/house-bill/866/text?r=1&s=3\n",
      "https://www.congress.gov/bill/116th-congress/house-bill/886/text?r=1&s=3\n",
      "https://www.congress.gov/bill/116th-congress/house-bill/887/text?r=1&s=3\n",
      "https://www.congress.gov/bill/116th-congress/house-bill/943/text?r=1&s=3\n",
      "https://www.congress.gov/bill/116th-congress/house-bill/991/text?r=1&s=3\n",
      "https://www.congress.gov/bill/116th-congress/house-bill/1058/text?r=1&s=3\n",
      "https://www.congress.gov/bill/116th-congress/house-bill/1079/text?r=1&s=3\n",
      "https://www.congress.gov/bill/116th-congress/house-bill/1123/text?r=1&s=3\n",
      "https://www.congress.gov/bill/116th-congress/house-bill/1138/text?r=1&s=3\n",
      "https://www.congress.gov/bill/116th-congress/house-bill/1158/text?r=1&s=3\n",
      "https://www.congress.gov/bill/116th-congress/house-bill/1198/text?r=1&s=3\n",
      "https://www.congress.gov/bill/116th-congress/house-bill/1200/text?r=1&s=3\n",
      "https://www.congress.gov/bill/116th-congress/house-bill/1222/text?r=1&s=3\n",
      "https://www.congress.gov/bill/116th-congress/house-bill/1250/text?r=1&s=3\n",
      "https://www.congress.gov/bill/116th-congress/house-bill/1252/text?r=1&s=3\n",
      "https://www.congress.gov/bill/116th-congress/house-bill/1253/text?r=1&s=3\n",
      "https://www.congress.gov/bill/116th-congress/house-bill/1327/text?r=1&s=3\n",
      "https://www.congress.gov/bill/116th-congress/house-bill/1365/text?r=1&s=3\n",
      "https://www.congress.gov/bill/116th-congress/house-bill/1396/text?r=1&s=3\n",
      "https://www.congress.gov/bill/116th-congress/house-bill/1424/text?r=1&s=3\n",
      "https://www.congress.gov/bill/116th-congress/house-bill/1449/text?r=1&s=3\n",
      "https://www.congress.gov/bill/116th-congress/house-bill/1520/text?r=1&s=3\n",
      "https://www.congress.gov/bill/116th-congress/house-bill/1526/text?r=1&s=3\n",
      "https://www.congress.gov/bill/116th-congress/house-bill/1569/text?r=1&s=3\n",
      "https://www.congress.gov/bill/116th-congress/house-bill/1590/text?r=1&s=3\n",
      "https://www.congress.gov/bill/116th-congress/house-bill/1668/text?r=1&s=3\n",
      "https://www.congress.gov/bill/116th-congress/house-bill/1773/text?r=1&s=3\n",
      "https://www.congress.gov/bill/116th-congress/house-bill/1812/text?r=1&s=3\n",
      "https://www.congress.gov/bill/116th-congress/house-bill/1830/text?r=1&s=3\n",
      "https://www.congress.gov/bill/116th-congress/house-bill/1833/text?r=1&s=3\n",
      "https://www.congress.gov/bill/116th-congress/house-bill/1839/text?r=1&s=3\n",
      "https://www.congress.gov/bill/116th-congress/house-bill/1844/text?r=1&s=3\n",
      "https://www.congress.gov/bill/116th-congress/house-bill/1865/text?r=1&s=3\n",
      "https://www.congress.gov/bill/116th-congress/house-bill/1952/text?r=1&s=3\n",
      "https://www.congress.gov/bill/116th-congress/house-bill/1957/text?r=1&s=3\n",
      "https://www.congress.gov/bill/116th-congress/house-bill/1972/text?r=1&s=3\n",
      "https://www.congress.gov/bill/116th-congress/house-bill/2030/text?r=1&s=3\n",
      "https://www.congress.gov/bill/116th-congress/house-bill/2151/text?r=1&s=3\n",
      "https://www.congress.gov/bill/116th-congress/house-bill/2157/text?r=1&s=3\n",
      "https://www.congress.gov/bill/116th-congress/house-bill/2196/text?r=1&s=3\n",
      "https://www.congress.gov/bill/116th-congress/house-bill/2246/text?r=1&s=3\n",
      "https://www.congress.gov/bill/116th-congress/house-bill/2325/text?r=1&s=3\n",
      "https://www.congress.gov/bill/116th-congress/house-bill/2333/text?r=1&s=3\n",
      "https://www.congress.gov/bill/116th-congress/house-bill/2334/text?r=1&s=3\n",
      "https://www.congress.gov/bill/116th-congress/house-bill/2336/text?r=1&s=3\n",
      "https://www.congress.gov/bill/116th-congress/house-bill/2359/text?r=1&s=3\n",
      "https://www.congress.gov/bill/116th-congress/house-bill/2372/text?r=1&s=3\n",
      "https://www.congress.gov/bill/116th-congress/house-bill/2379/text?r=1&s=3\n",
      "https://www.congress.gov/bill/116th-congress/house-bill/2385/text?r=1&s=3\n",
      "https://www.congress.gov/bill/116th-congress/house-bill/2423/text?r=1&s=3\n",
      "https://www.congress.gov/bill/116th-congress/house-bill/2451/text?r=1&s=3\n",
      "https://www.congress.gov/bill/116th-congress/house-bill/2454/text?r=1&s=3\n",
      "https://www.congress.gov/bill/116th-congress/house-bill/2476/text?r=1&s=3\n",
      "https://www.congress.gov/bill/116th-congress/house-bill/2695/text?r=1&s=3\n",
      "https://www.congress.gov/bill/116th-congress/house-bill/2938/text?r=1&s=3\n",
      "https://www.congress.gov/bill/116th-congress/house-bill/2940/text?r=1&s=3\n",
      "https://www.congress.gov/bill/116th-congress/house-bill/2969/text?r=1&s=3\n",
      "https://www.congress.gov/bill/116th-congress/house-bill/3005/text?r=1&s=3\n",
      "https://www.congress.gov/bill/116th-congress/house-bill/3055/text?r=1&s=3\n",
      "https://www.congress.gov/bill/116th-congress/house-bill/3144/text?r=1&s=3\n",
      "https://www.congress.gov/bill/116th-congress/house-bill/3151/text?r=1&s=3\n",
      "https://www.congress.gov/bill/116th-congress/house-bill/3196/text?r=1&s=3\n",
      "https://www.congress.gov/bill/116th-congress/house-bill/3207/text?r=1&s=3\n",
      "https://www.congress.gov/bill/116th-congress/house-bill/3245/text?r=1&s=3\n",
      "https://www.congress.gov/bill/116th-congress/house-bill/3253/text?r=1&s=3\n",
      "https://www.congress.gov/bill/116th-congress/house-bill/3275/text?r=1&s=3\n",
      "https://www.congress.gov/bill/116th-congress/house-bill/3304/text?r=1&s=3\n",
      "https://www.congress.gov/bill/116th-congress/house-bill/3305/text?r=1&s=3\n",
      "https://www.congress.gov/bill/116th-congress/house-bill/3311/text?r=1&s=3\n",
      "https://www.congress.gov/bill/116th-congress/house-bill/3314/text?r=1&s=3\n",
      "https://www.congress.gov/bill/116th-congress/house-bill/3317/text?r=1&s=3\n",
      "https://www.congress.gov/bill/116th-congress/house-bill/3329/text?r=1&s=3\n",
      "https://www.congress.gov/bill/116th-congress/house-bill/3349/text?r=1&s=3\n",
      "https://www.congress.gov/bill/116th-congress/house-bill/3399/text?r=1&s=3\n",
      "https://www.congress.gov/bill/116th-congress/house-bill/3401/text?r=1&s=3\n",
      "https://www.congress.gov/bill/116th-congress/house-bill/3465/text?r=1&s=3\n",
      "https://www.congress.gov/bill/116th-congress/house-bill/3504/text?r=1&s=3\n",
      "https://www.congress.gov/bill/116th-congress/house-bill/3589/text?r=1&s=3\n",
      "https://www.congress.gov/bill/116th-congress/house-bill/3680/text?r=1&s=3\n",
      "https://www.congress.gov/bill/116th-congress/house-bill/3847/text?r=1&s=3\n",
      "https://www.congress.gov/bill/116th-congress/house-bill/3870/text?r=1&s=3\n",
      "https://www.congress.gov/bill/116th-congress/house-bill/3877/text?r=1&s=3\n",
      "https://www.congress.gov/bill/116th-congress/house-bill/3889/text?r=1&s=3\n",
      "https://www.congress.gov/bill/116th-congress/house-bill/4034/text?r=1&s=3\n",
      "https://www.congress.gov/bill/116th-congress/house-bill/4104/text?r=1&s=3\n",
      "https://www.congress.gov/bill/116th-congress/house-bill/4183/text?r=1&s=3\n",
      "https://www.congress.gov/bill/116th-congress/house-bill/4200/text?r=1&s=3\n",
      "https://www.congress.gov/bill/116th-congress/house-bill/4258/text?r=1&s=3\n",
      "https://www.congress.gov/bill/116th-congress/house-bill/4279/text?r=1&s=3\n",
      "https://www.congress.gov/bill/116th-congress/house-bill/4285/text?r=1&s=3\n",
      "https://www.congress.gov/bill/116th-congress/house-bill/4334/text?r=1&s=3\n",
      "https://www.congress.gov/bill/116th-congress/house-bill/4378/text?r=1&s=3\n",
      "https://www.congress.gov/bill/116th-congress/house-bill/4566/text?r=1&s=3\n",
      "https://www.congress.gov/bill/116th-congress/house-bill/4672/text?r=1&s=3\n",
      "https://www.congress.gov/bill/116th-congress/house-bill/4725/text?r=1&s=3\n",
      "https://www.congress.gov/bill/116th-congress/house-bill/4734/text?r=1&s=3\n",
      "https://www.congress.gov/bill/116th-congress/house-bill/4761/text?r=1&s=3\n",
      "https://www.congress.gov/bill/116th-congress/house-bill/4771/text?r=1&s=3\n",
      "https://www.congress.gov/bill/116th-congress/house-bill/4779/text?r=1&s=3\n",
      "https://www.congress.gov/bill/116th-congress/house-bill/4785/text?r=1&s=3\n",
      "https://www.congress.gov/bill/116th-congress/house-bill/4794/text?r=1&s=3\n",
      "https://www.congress.gov/bill/116th-congress/house-bill/4803/text?r=1&s=3\n",
      "https://www.congress.gov/bill/116th-congress/house-bill/4875/text?r=1&s=3\n",
      "https://www.congress.gov/bill/116th-congress/house-bill/4920/text?r=1&s=3\n",
      "https://www.congress.gov/bill/116th-congress/house-bill/4971/text?r=1&s=3\n",
      "https://www.congress.gov/bill/116th-congress/house-bill/4975/text?r=1&s=3\n",
      "https://www.congress.gov/bill/116th-congress/house-bill/4981/text?r=1&s=3\n",
      "https://www.congress.gov/bill/116th-congress/house-bill/4998/text?r=1&s=3\n",
      "https://www.congress.gov/bill/116th-congress/house-bill/5037/text?r=1&s=3\n",
      "https://www.congress.gov/bill/116th-congress/house-bill/5062/text?r=1&s=3\n",
      "https://www.congress.gov/bill/116th-congress/house-bill/5214/text?r=1&s=3\n",
      "https://www.congress.gov/bill/116th-congress/house-bill/5277/text?r=1&s=3\n",
      "https://www.congress.gov/bill/116th-congress/house-bill/5307/text?r=1&s=3\n",
      "https://www.congress.gov/bill/116th-congress/house-bill/5317/text?r=1&s=3\n",
      "https://www.congress.gov/bill/116th-congress/house-bill/5363/text?r=1&s=3\n",
      "https://www.congress.gov/bill/116th-congress/house-bill/5384/text?r=1&s=3\n",
      "https://www.congress.gov/bill/116th-congress/house-bill/5430/text?r=1&s=3\n",
      "https://www.congress.gov/bill/116th-congress/house-bill/5671/text?r=1&s=3\n",
      "https://www.congress.gov/bill/116th-congress/house-bill/5901/text?r=1&s=3\n",
      "https://www.congress.gov/bill/116th-congress/house-bill/5954/text?r=1&s=3\n",
      "https://www.congress.gov/bill/116th-congress/house-bill/6074/text?r=1&s=3\n",
      "https://www.congress.gov/bill/116th-congress/house-bill/6168/text?r=1&s=3\n",
      "https://www.congress.gov/bill/116th-congress/house-bill/6201/text?r=1&s=3\n",
      "https://www.congress.gov/bill/116th-congress/house-bill/6322/text?r=1&s=3\n",
      "https://www.congress.gov/bill/116th-congress/house-bill/7010/text?r=1&s=3\n",
      "https://www.congress.gov/bill/116th-congress/house-bill/7440/text?r=1&s=3\n",
      "https://www.congress.gov/bill/116th-congress/house-bill/8247/text?r=1&s=3\n",
      "https://www.congress.gov/bill/116th-congress/house-bill/8276/text?r=1&s=3\n",
      "https://www.congress.gov/bill/116th-congress/house-bill/8337/text?r=1&s=3\n",
      "https://www.congress.gov/bill/116th-congress/house-bill/8472/text?r=1&s=3\n",
      "https://www.congress.gov/bill/116th-congress/house-bill/8900/text?r=1&s=3\n"
     ]
    }
   ],
   "source": [
    "for bill in hr_bills_to_keep:\n",
    "    bill_number = bill['number']\n",
    "    url = f'https://www.congress.gov/bill/116th-congress/house-bill/{ bill_number }/text?r=1&s=3'\n",
    "    # scrape id='billTextContainer'\n",
    "    print(url)"
   ]
  },
  {
   "cell_type": "code",
   "execution_count": 65,
   "id": "7c7157da-8a54-4a6f-8254-ae4e6174e649",
   "metadata": {},
   "outputs": [
    {
     "name": "stdout",
     "output_type": "stream",
     "text": [
      "{\n",
      "  \"actions\": [\n",
      "    {\n",
      "      \"acted_at\": \"2019-01-03\",\n",
      "      \"action_code\": \"Intro-H\",\n",
      "      \"references\": [],\n",
      "      \"text\": \"Introduced in House\",\n",
      "      \"type\": \"action\"\n",
      "    },\n",
      "    {\n",
      "      \"acted_at\": \"2019-01-10T15:11:20-05:00\",\n",
      "      \"action_code\": \"H37300\",\n",
      "      \"how\": \"by voice vote\",\n",
      "      \"references\": [\n",
      "        {\n",
      "          \"reference\": \"CR H430-431\",\n",
      "          \"type\": \"text\"\n",
      "        }\n",
      "      ],\n",
      "      \"result\": \"pass\",\n",
      "      \"status\": \"PASS_OVER:HOUSE\",\n",
      "      \"suspension\": null,\n",
      "      \"text\": \"On motion to suspend the rules and pass the bill Agreed to by voice vote.\",\n",
      "      \"type\": \"vote\",\n",
      "      \"vote_type\": \"vote\",\n",
      "      \"where\": \"h\"\n",
      "    },\n",
      "    {\n",
      "      \"acted_at\": \"2020-12-27\",\n",
      "      \"action_code\": \"E30000\",\n",
      "      \"references\": [],\n",
      "      \"status\": \"ENACTED:SIGNED\",\n",
      "      \"text\": \"Signed by President.\",\n",
      "      \"type\": \"signed\"\n",
      "    }\n",
      "  ],\n",
      "  \"amendments\": [\n",
      "    {\n",
      "      \"amendment_id\": \"samdt2731-116\",\n",
      "      \"amendment_type\": \"samdt\",\n",
      "      \"chamber\": \"s\",\n",
      "      \"number\": \"2731\"\n",
      "    }\n",
      "  ],\n",
      "  \"bill_id\": \"hr133-116\",\n",
      "  \"bill_type\": \"hr\",\n",
      "  \"by_request\": false,\n",
      "  \"committee_reports\": [],\n",
      "  \"committees\": [\n",
      "    {\n",
      "      \"activity\": [\n",
      "        \"reporting\",\n",
      "        \"markup\",\n",
      "        \"referral\"\n",
      "      ],\n",
      "      \"committee\": \"Senate Foreign Relations\",\n",
      "      \"committee_id\": \"SSFR\"\n",
      "    },\n",
      "    {\n",
      "      \"activity\": [\n",
      "        \"referral\"\n",
      "      ],\n",
      "      \"committee\": \"House Foreign Affairs\",\n",
      "      \"committee_id\": \"HSFA\"\n",
      "    }\n",
      "  ],\n",
      "  \"congress\": \"116\",\n",
      "  \"enacted_as\": null,\n",
      "  \"history\": {\n",
      "    \"active\": true,\n",
      "    \"active_at\": \"2019-01-10T15:05:00-05:00\",\n",
      "    \"awaiting_signature\": true,\n",
      "    \"awaiting_signature_since\": \"2020-12-27\",\n",
      "    \"enacted\": false,\n",
      "    \"house_passage_result\": \"pass\",\n",
      "    \"house_passage_result_at\": \"2020-12-21T21:11:31-05:00\",\n",
      "    \"senate_passage_result\": \"pass\",\n",
      "    \"senate_passage_result_at\": \"2020-01-15\",\n",
      "    \"vetoed\": false\n",
      "  },\n",
      "  \"introduced_at\": \"2019-01-03\",\n",
      "  \"number\": \"133\",\n",
      "  \"official_title\": \"Making consolidated appropriations for the fiscal year ending September 30, 2021, providing coronavirus emergency response and relief, and for other purposes.\",\n",
      "  \"popular_title\": null,\n",
      "  \"short_title\": \"ACCESS BROADBAND Act\",\n",
      "  \"status\": \"ENACTED:SIGNED\",\n",
      "  \"status_at\": \"2020-12-27\",\n",
      "  \"summary\": {\n",
      "    \"as\": \"Passed Senate\",\n",
      "    \"date\": \"2020-01-15T14:48:52Z\",\n",
      "    \"text\": \"United States-Mexico Economic Partnership Act\\n\\nThis bill directs the Department of State to develop a strategy to enhance economic cooperation and expand professional and educational exchange programs between the United States and Mexico.\\n\\nThe State Department shall develop strategies to encourage more academic exchanges between the countries, as well as exchanges to encourage strengthening business skills and entrepreneurship.\\n\\nThe State Department shall also promote energy infrastructure coordination and educational development. It shall also assess ways to develop partnerships between the countries' medical and nursing schools. The plan should ensure that accreditation standards for such schools are comparable so that students in Mexico can pass the licensing exams needed to practice in the United States.\"\n",
      "  },\n",
      "  \"updated_at\": \"2020-12-29T19:15:32Z\",\n",
      "  \"url\": \"https://www.govinfo.gov/bulkdata/BILLSTATUS/116/hr/BILLSTATUS-116hr133.xml\"\n",
      "}\n"
     ]
    }
   ],
   "source": [
    "# this is just the first HR bill\n",
    "pretty_print(hr_bills_to_keep[0])"
   ]
  },
  {
   "cell_type": "markdown",
   "id": "7669cdf0-c433-45ff-8987-a16586d4ebcf",
   "metadata": {},
   "source": [
    "Among actions, the filters I want are:\n",
    "- \"action_code\": \"Intro-H\"\n",
    "- \"action_code\": \"H37300\" / \"status\": \"PASS_OVER:HOUSE\"\n",
    "- \"action_code\": \"E30000\" / \"status\": \"ENACTED:SIGNED\" (E3000 always means ENACTED:SIGNED)"
   ]
  },
  {
   "cell_type": "code",
   "execution_count": 13,
   "id": "4b2eef87-0d50-492a-a969-9a506922543a",
   "metadata": {},
   "outputs": [
    {
     "data": {
      "text/plain": [
       "157"
      ]
     },
     "execution_count": 13,
     "metadata": {},
     "output_type": "execute_result"
    }
   ],
   "source": [
    "len(hr_bills_to_keep)"
   ]
  },
  {
   "cell_type": "code",
   "execution_count": null,
   "id": "b38e3644-4a79-4477-ae43-273fb376e21a",
   "metadata": {},
   "outputs": [],
   "source": []
  }
 ],
 "metadata": {
  "kernelspec": {
   "display_name": "Python 3 (ipykernel)",
   "language": "python",
   "name": "python3"
  },
  "language_info": {
   "codemirror_mode": {
    "name": "ipython",
    "version": 3
   },
   "file_extension": ".py",
   "mimetype": "text/x-python",
   "name": "python",
   "nbconvert_exporter": "python",
   "pygments_lexer": "ipython3",
   "version": "3.8.5"
  }
 },
 "nbformat": 4,
 "nbformat_minor": 5
}
