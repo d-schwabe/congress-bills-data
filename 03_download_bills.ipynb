{
 "cells": [
  {
   "cell_type": "markdown",
   "id": "793a6a04-6b67-496f-8ede-b719a6b4d7dd",
   "metadata": {},
   "source": [
    "# Step 3: Reading in the bills for which I'll scrape word count data, sorting them, and grabbing wordcount data"
   ]
  },
  {
   "cell_type": "markdown",
   "id": "a0fec8e8-4f14-4275-9f14-58e0aa4b77a4",
   "metadata": {},
   "source": [
    "## 3.1: Importing the necessary packages"
   ]
  },
  {
   "cell_type": "code",
   "execution_count": 11,
   "id": "82b4a5c4-e7ad-4527-a361-46a3b8b4d6e5",
   "metadata": {},
   "outputs": [],
   "source": [
    "import json\n",
    "import requests\n",
    "import pandas as pd\n",
    "from tqdm.notebook import tqdm"
   ]
  },
  {
   "cell_type": "markdown",
   "id": "ea340420-ef38-444f-86c0-15b29e9e513f",
   "metadata": {},
   "source": [
    "## 3.2: Reading the 'bills_to_scrape.csv' file into a new dataframe and sorting the entries in ascending order by congress number, then bill number\n",
    "The 'bills_to_scrape.csv' file that we created in the previous step is looking great, though it could be better organized. Here we read the csv file into a new dataframe and use the .sort_values function to arrange all the bills within it in ascending order first by congressional session number and second by bill number. This will make our dataset cleanear and easier to analyze later on."
   ]
  },
  {
   "cell_type": "code",
   "execution_count": 31,
   "id": "65b1a53c-318e-444c-9e36-32bfe000a492",
   "metadata": {},
   "outputs": [
    {
     "data": {
      "text/html": [
       "<div>\n",
       "<style scoped>\n",
       "    .dataframe tbody tr th:only-of-type {\n",
       "        vertical-align: middle;\n",
       "    }\n",
       "\n",
       "    .dataframe tbody tr th {\n",
       "        vertical-align: top;\n",
       "    }\n",
       "\n",
       "    .dataframe thead th {\n",
       "        text-align: right;\n",
       "    }\n",
       "</style>\n",
       "<table border=\"1\" class=\"dataframe\">\n",
       "  <thead>\n",
       "    <tr style=\"text-align: right;\">\n",
       "      <th></th>\n",
       "      <th>congress</th>\n",
       "      <th>bill_number</th>\n",
       "      <th>url</th>\n",
       "    </tr>\n",
       "  </thead>\n",
       "  <tbody>\n",
       "    <tr>\n",
       "      <th>0</th>\n",
       "      <td>106</td>\n",
       "      <td>4</td>\n",
       "      <td>https://www.congress.gov/bill/106th-congress/h...</td>\n",
       "    </tr>\n",
       "    <tr>\n",
       "      <th>1</th>\n",
       "      <td>106</td>\n",
       "      <td>5</td>\n",
       "      <td>https://www.congress.gov/bill/106th-congress/h...</td>\n",
       "    </tr>\n",
       "    <tr>\n",
       "      <th>2</th>\n",
       "      <td>106</td>\n",
       "      <td>15</td>\n",
       "      <td>https://www.congress.gov/bill/106th-congress/h...</td>\n",
       "    </tr>\n",
       "    <tr>\n",
       "      <th>3</th>\n",
       "      <td>106</td>\n",
       "      <td>20</td>\n",
       "      <td>https://www.congress.gov/bill/106th-congress/h...</td>\n",
       "    </tr>\n",
       "    <tr>\n",
       "      <th>4</th>\n",
       "      <td>106</td>\n",
       "      <td>34</td>\n",
       "      <td>https://www.congress.gov/bill/106th-congress/h...</td>\n",
       "    </tr>\n",
       "    <tr>\n",
       "      <th>...</th>\n",
       "      <td>...</td>\n",
       "      <td>...</td>\n",
       "      <td>...</td>\n",
       "    </tr>\n",
       "    <tr>\n",
       "      <th>2766</th>\n",
       "      <td>115</td>\n",
       "      <td>7243</td>\n",
       "      <td>https://www.congress.gov/bill/115th-congress/h...</td>\n",
       "    </tr>\n",
       "    <tr>\n",
       "      <th>2767</th>\n",
       "      <td>115</td>\n",
       "      <td>7279</td>\n",
       "      <td>https://www.congress.gov/bill/115th-congress/h...</td>\n",
       "    </tr>\n",
       "    <tr>\n",
       "      <th>2768</th>\n",
       "      <td>115</td>\n",
       "      <td>7318</td>\n",
       "      <td>https://www.congress.gov/bill/115th-congress/h...</td>\n",
       "    </tr>\n",
       "    <tr>\n",
       "      <th>2769</th>\n",
       "      <td>115</td>\n",
       "      <td>7319</td>\n",
       "      <td>https://www.congress.gov/bill/115th-congress/h...</td>\n",
       "    </tr>\n",
       "    <tr>\n",
       "      <th>2770</th>\n",
       "      <td>115</td>\n",
       "      <td>7327</td>\n",
       "      <td>https://www.congress.gov/bill/115th-congress/h...</td>\n",
       "    </tr>\n",
       "  </tbody>\n",
       "</table>\n",
       "<p>2771 rows × 3 columns</p>\n",
       "</div>"
      ],
      "text/plain": [
       "      congress  bill_number                                                url\n",
       "0          106            4  https://www.congress.gov/bill/106th-congress/h...\n",
       "1          106            5  https://www.congress.gov/bill/106th-congress/h...\n",
       "2          106           15  https://www.congress.gov/bill/106th-congress/h...\n",
       "3          106           20  https://www.congress.gov/bill/106th-congress/h...\n",
       "4          106           34  https://www.congress.gov/bill/106th-congress/h...\n",
       "...        ...          ...                                                ...\n",
       "2766       115         7243  https://www.congress.gov/bill/115th-congress/h...\n",
       "2767       115         7279  https://www.congress.gov/bill/115th-congress/h...\n",
       "2768       115         7318  https://www.congress.gov/bill/115th-congress/h...\n",
       "2769       115         7319  https://www.congress.gov/bill/115th-congress/h...\n",
       "2770       115         7327  https://www.congress.gov/bill/115th-congress/h...\n",
       "\n",
       "[2771 rows x 3 columns]"
      ]
     },
     "execution_count": 31,
     "metadata": {},
     "output_type": "execute_result"
    }
   ],
   "source": [
    "# Reading csv file into a new dataframe\n",
    "bills_to_scrape = pd.read_csv('bills_to_scrape.csv')\n",
    "\n",
    "# Sorting the bills by congresional session and bill number\n",
    "bills_to_scrape = bills_to_scrape.sort_values(by=['congress', 'bill_number']).reset_index(drop=True)\n",
    "\n",
    "# Printing the updated dataframe to ensure the sorting worked as intended (it did!)\n",
    "bills_to_scrape"
   ]
  },
  {
   "cell_type": "markdown",
   "id": "6cc0c318-7d2d-44dd-9a8f-3756dae601e1",
   "metadata": {},
   "source": [
    "## 3.3: Looping through the bills to download\n",
    "Here I start by converting to a Python dictionary file format, which is easier to loop through..."
   ]
  },
  {
   "cell_type": "code",
   "execution_count": 36,
   "id": "64f9cbf6-43f3-4285-b8ca-70d8c376ac61",
   "metadata": {},
   "outputs": [],
   "source": [
    "# Creating the new dictionary file\n",
    "bills = json.loads(bills_to_scrape.to_json(orient='records'))"
   ]
  },
  {
   "cell_type": "code",
   "execution_count": 33,
   "id": "bc4af807-7eb7-4eae-97c6-c73e8508c4bc",
   "metadata": {},
   "outputs": [
    {
     "data": {
      "text/plain": [
       "[{'congress': 106,\n",
       "  'bill_number': 4,\n",
       "  'url': 'https://www.congress.gov/bill/106th-congress/house-bill/4/text?r=1&s=2&format=txt'},\n",
       " {'congress': 106,\n",
       "  'bill_number': 5,\n",
       "  'url': 'https://www.congress.gov/bill/106th-congress/house-bill/5/text?r=1&s=2&format=txt'},\n",
       " {'congress': 106,\n",
       "  'bill_number': 15,\n",
       "  'url': 'https://www.congress.gov/bill/106th-congress/house-bill/15/text?r=1&s=2&format=txt'},\n",
       " {'congress': 106,\n",
       "  'bill_number': 20,\n",
       "  'url': 'https://www.congress.gov/bill/106th-congress/house-bill/20/text?r=1&s=2&format=txt'},\n",
       " {'congress': 106,\n",
       "  'bill_number': 34,\n",
       "  'url': 'https://www.congress.gov/bill/106th-congress/house-bill/34/text?r=1&s=2&format=txt'}]"
      ]
     },
     "execution_count": 33,
     "metadata": {},
     "output_type": "execute_result"
    }
   ],
   "source": [
    "# Taking a quick look at the dictionary file to make sure it's looking as intended (it is!)\n",
    "bills[0:5]"
   ]
  },
  {
   "cell_type": "code",
   "execution_count": 34,
   "id": "a8475313-4b32-42f3-a5d4-f445a40293ef",
   "metadata": {},
   "outputs": [],
   "source": [
    "!mkdir -p pages"
   ]
  },
  {
   "cell_type": "markdown",
   "id": "545148f6-cc57-412b-b469-104944474e32",
   "metadata": {},
   "source": [
    "## 3.4: Using a for loop to download all the .html pages on Congress.gov that contain the full text of each bill\n"
   ]
  },
  {
   "cell_type": "code",
   "execution_count": null,
   "id": "1eee2552-b429-4057-9f92-7c82f8b5a476",
   "metadata": {},
   "outputs": [],
   "source": [
    "# Looping through bills to download bill urls and text of all enacted bills\n",
    "for bill in tqdm(bills):\n",
    "    congress = bill['congress']\n",
    "    bill_number = bill['bill_number']\n",
    "    bill_url = bill['url']\n",
    "    # Request the URL\n",
    "    page = requests.get(bill_url)\n",
    "    \n",
    "    # Save the HTML of the URL\n",
    "    # See string_interpolation.ipynb notebook in this repo for how f-strings work\n",
    "    with open(f'pages/{congress}_{ bill_number }.html', 'w') as f:\n",
    "        f.write(page.text)"
   ]
  }
 ],
 "metadata": {
  "kernelspec": {
   "display_name": "Python 3 (ipykernel)",
   "language": "python",
   "name": "python3"
  },
  "language_info": {
   "codemirror_mode": {
    "name": "ipython",
    "version": 3
   },
   "file_extension": ".py",
   "mimetype": "text/x-python",
   "name": "python",
   "nbconvert_exporter": "python",
   "pygments_lexer": "ipython3",
   "version": "3.8.5"
  }
 },
 "nbformat": 4,
 "nbformat_minor": 5
}
