{
 "cells": [
  {
   "cell_type": "markdown",
   "id": "effcf7a5-c76c-4aba-a912-77dbba770392",
   "metadata": {},
   "source": [
    "# Parse 111-115th Congress\n",
    "\n",
    "Export a CSV of URLS to scrape"
   ]
  },
  {
   "cell_type": "code",
   "execution_count": 1,
   "id": "4c237ad1-81cc-4e01-893b-59e4cefb5a4f",
   "metadata": {},
   "outputs": [
    {
     "name": "stderr",
     "output_type": "stream",
     "text": [
      "/Users/derekschwabe/.pyenv/versions/3.8.5/envs/congress-bills-data-3.8.5/lib/python3.8/site-packages/pandas/compat/__init__.py:124: UserWarning: Could not import the lzma module. Your installed Python is incomplete. Attempting to use lzma compression will result in a RuntimeError.\n",
      "  warnings.warn(msg)\n"
     ]
    }
   ],
   "source": [
    "import json\n",
    "import pandas as pd\n",
    "import glob\n",
    "import os\n",
    "from tqdm.notebook import tqdm"
   ]
  },
  {
   "cell_type": "code",
   "execution_count": 2,
   "id": "566d1bc4-50de-4540-a3ec-ab576925ae2c",
   "metadata": {},
   "outputs": [],
   "source": [
    "bill_paths = []\n",
    "for n in range(111,116):\n",
    "    if (n == 111) or (n == 112):\n",
    "        file_paths = glob.glob(f'data/{n}/bills/hr/' + '*' + os.path.sep)\n",
    "    elif n == 115:\n",
    "        file_paths = glob.glob(f'data/{n}/{n}/bills/hr/' + '*' + os.path.sep)\n",
    "    else:\n",
    "        # 113, 114th\n",
    "        file_paths = glob.glob(f'data/{n}/congress/data/{n}/bills/hr/' + '*' + os.path.sep)\n",
    "        \n",
    "    bill_paths.extend(file_paths)"
   ]
  },
  {
   "cell_type": "code",
   "execution_count": 3,
   "id": "649b60e9-376c-409c-bdb7-7da9212f9a24",
   "metadata": {},
   "outputs": [
    {
     "data": {
      "text/plain": [
       "33089"
      ]
     },
     "execution_count": 3,
     "metadata": {},
     "output_type": "execute_result"
    }
   ],
   "source": [
    "len(bill_paths)"
   ]
  },
  {
   "cell_type": "code",
   "execution_count": 4,
   "id": "d929b0a8-144e-4a0d-8ab5-49cb52533966",
   "metadata": {},
   "outputs": [
    {
     "data": {
      "application/vnd.jupyter.widget-view+json": {
       "model_id": "ca559027a0ea4b86a1c71d57293b2d07",
       "version_major": 2,
       "version_minor": 0
      },
      "text/plain": [
       "  0%|          | 0/33089 [00:00<?, ?it/s]"
      ]
     },
     "metadata": {},
     "output_type": "display_data"
    }
   ],
   "source": [
    "# empty list to collect bills that passed\n",
    "passed_bills = []\n",
    "\n",
    "# loop over all the bill_paths\n",
    "for bill_path in tqdm(bill_paths):\n",
    "    \n",
    "    # there's a data.json file in every bill_path\n",
    "    file_name = f'{ bill_path }data.json'\n",
    "\n",
    "    # read the json\n",
    "    with open(file_name) as f:\n",
    "        bill_json = json.load(f)\n",
    "        # every bill has a status key; i only want the ones where\n",
    "        # `status` is 'ENACTED:SIGNED'\n",
    "        if bill_json['status'] == 'ENACTED:SIGNED':\n",
    "            # append bill_path to list if it was enacted/signed\n",
    "            passed_bills.append(bill_path)"
   ]
  },
  {
   "cell_type": "code",
   "execution_count": 5,
   "id": "378f2460-3532-435d-87a1-ac590cffe696",
   "metadata": {},
   "outputs": [
    {
     "data": {
      "text/plain": [
       "1161"
      ]
     },
     "execution_count": 5,
     "metadata": {},
     "output_type": "execute_result"
    }
   ],
   "source": [
    "len(passed_bills)"
   ]
  },
  {
   "cell_type": "code",
   "execution_count": 6,
   "id": "c5164ddd-3b3d-49a4-9a3c-25dd8ba4f490",
   "metadata": {},
   "outputs": [],
   "source": [
    "bills_data = []\n",
    "for bill_path in passed_bills:\n",
    "    \n",
    "    # there's a data.json file in every bill_path\n",
    "    file_name = f'{ bill_path }/data.json'\n",
    "    \n",
    "    # read the json\n",
    "    with open(file_name) as f:\n",
    "        bill_json = json.load(f)\n",
    "        congress = bill_json['congress']\n",
    "        bill_number = bill_json['number']\n",
    "        bill_url = f'https://www.congress.gov/bill/{ congress }th-congress/house-bill/{ bill_number }/text?r=1&s=2&format=txt'\n",
    "        bills_data.append({\n",
    "            'congress': congress,\n",
    "            'bill_number': bill_number,\n",
    "            'url': bill_url\n",
    "        })\n",
    "        \n",
    "bills = pd.DataFrame(bills_data)"
   ]
  },
  {
   "cell_type": "code",
   "execution_count": 7,
   "id": "8734b0cf-67a3-4a08-99a4-3835eaea6958",
   "metadata": {},
   "outputs": [
    {
     "data": {
      "text/html": [
       "<div>\n",
       "<style scoped>\n",
       "    .dataframe tbody tr th:only-of-type {\n",
       "        vertical-align: middle;\n",
       "    }\n",
       "\n",
       "    .dataframe tbody tr th {\n",
       "        vertical-align: top;\n",
       "    }\n",
       "\n",
       "    .dataframe thead th {\n",
       "        text-align: right;\n",
       "    }\n",
       "</style>\n",
       "<table border=\"1\" class=\"dataframe\">\n",
       "  <thead>\n",
       "    <tr style=\"text-align: right;\">\n",
       "      <th></th>\n",
       "      <th>congress</th>\n",
       "      <th>bill_number</th>\n",
       "      <th>url</th>\n",
       "    </tr>\n",
       "  </thead>\n",
       "  <tbody>\n",
       "    <tr>\n",
       "      <th>0</th>\n",
       "      <td>111</td>\n",
       "      <td>5014</td>\n",
       "      <td>https://www.congress.gov/bill/111th-congress/h...</td>\n",
       "    </tr>\n",
       "    <tr>\n",
       "      <th>1</th>\n",
       "      <td>111</td>\n",
       "      <td>5470</td>\n",
       "      <td>https://www.congress.gov/bill/111th-congress/h...</td>\n",
       "    </tr>\n",
       "    <tr>\n",
       "      <th>2</th>\n",
       "      <td>111</td>\n",
       "      <td>2004</td>\n",
       "      <td>https://www.congress.gov/bill/111th-congress/h...</td>\n",
       "    </tr>\n",
       "    <tr>\n",
       "      <th>3</th>\n",
       "      <td>111</td>\n",
       "      <td>3114</td>\n",
       "      <td>https://www.congress.gov/bill/111th-congress/h...</td>\n",
       "    </tr>\n",
       "    <tr>\n",
       "      <th>4</th>\n",
       "      <td>111</td>\n",
       "      <td>3326</td>\n",
       "      <td>https://www.congress.gov/bill/111th-congress/h...</td>\n",
       "    </tr>\n",
       "    <tr>\n",
       "      <th>...</th>\n",
       "      <td>...</td>\n",
       "      <td>...</td>\n",
       "      <td>...</td>\n",
       "    </tr>\n",
       "    <tr>\n",
       "      <th>1156</th>\n",
       "      <td>115</td>\n",
       "      <td>6414</td>\n",
       "      <td>https://www.congress.gov/bill/115th-congress/h...</td>\n",
       "    </tr>\n",
       "    <tr>\n",
       "      <th>1157</th>\n",
       "      <td>115</td>\n",
       "      <td>2611</td>\n",
       "      <td>https://www.congress.gov/bill/115th-congress/h...</td>\n",
       "    </tr>\n",
       "    <tr>\n",
       "      <th>1158</th>\n",
       "      <td>115</td>\n",
       "      <td>6621</td>\n",
       "      <td>https://www.congress.gov/bill/115th-congress/h...</td>\n",
       "    </tr>\n",
       "    <tr>\n",
       "      <th>1159</th>\n",
       "      <td>115</td>\n",
       "      <td>3996</td>\n",
       "      <td>https://www.congress.gov/bill/115th-congress/h...</td>\n",
       "    </tr>\n",
       "    <tr>\n",
       "      <th>1160</th>\n",
       "      <td>115</td>\n",
       "      <td>3398</td>\n",
       "      <td>https://www.congress.gov/bill/115th-congress/h...</td>\n",
       "    </tr>\n",
       "  </tbody>\n",
       "</table>\n",
       "<p>1161 rows × 3 columns</p>\n",
       "</div>"
      ],
      "text/plain": [
       "     congress bill_number                                                url\n",
       "0         111        5014  https://www.congress.gov/bill/111th-congress/h...\n",
       "1         111        5470  https://www.congress.gov/bill/111th-congress/h...\n",
       "2         111        2004  https://www.congress.gov/bill/111th-congress/h...\n",
       "3         111        3114  https://www.congress.gov/bill/111th-congress/h...\n",
       "4         111        3326  https://www.congress.gov/bill/111th-congress/h...\n",
       "...       ...         ...                                                ...\n",
       "1156      115        6414  https://www.congress.gov/bill/115th-congress/h...\n",
       "1157      115        2611  https://www.congress.gov/bill/115th-congress/h...\n",
       "1158      115        6621  https://www.congress.gov/bill/115th-congress/h...\n",
       "1159      115        3996  https://www.congress.gov/bill/115th-congress/h...\n",
       "1160      115        3398  https://www.congress.gov/bill/115th-congress/h...\n",
       "\n",
       "[1161 rows x 3 columns]"
      ]
     },
     "execution_count": 7,
     "metadata": {},
     "output_type": "execute_result"
    }
   ],
   "source": [
    "bills"
   ]
  },
  {
   "cell_type": "code",
   "execution_count": 8,
   "id": "8b4b317e-8263-4332-b31c-cc077deb7552",
   "metadata": {},
   "outputs": [],
   "source": [
    "bills.to_csv('bill_to_scrape.csv', index=False)"
   ]
  },
  {
   "cell_type": "code",
   "execution_count": null,
   "id": "eadeb3de-3ede-45e8-890f-1f6300dca08b",
   "metadata": {},
   "outputs": [],
   "source": []
  }
 ],
 "metadata": {
  "kernelspec": {
   "display_name": "Python 3 (ipykernel)",
   "language": "python",
   "name": "python3"
  },
  "language_info": {
   "codemirror_mode": {
    "name": "ipython",
    "version": 3
   },
   "file_extension": ".py",
   "mimetype": "text/x-python",
   "name": "python",
   "nbconvert_exporter": "python",
   "pygments_lexer": "ipython3",
   "version": "3.8.5"
  }
 },
 "nbformat": 4,
 "nbformat_minor": 5
}
