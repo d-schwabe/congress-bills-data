{
 "cells": [
  {
   "cell_type": "code",
   "execution_count": 1,
   "id": "8f18e301-f61a-4155-bbe1-c6dd3d27eb46",
   "metadata": {},
   "outputs": [
    {
     "name": "stderr",
     "output_type": "stream",
     "text": [
      "/Users/derekschwabe/.pyenv/versions/3.8.5/envs/congress-bills-data-3.8.5/lib/python3.8/site-packages/pandas/compat/__init__.py:124: UserWarning: Could not import the lzma module. Your installed Python is incomplete. Attempting to use lzma compression will result in a RuntimeError.\n",
      "  warnings.warn(msg)\n"
     ]
    }
   ],
   "source": [
    "import json\n",
    "import requests\n",
    "from bs4 import BeautifulSoup\n",
    "import re\n",
    "import string\n",
    "import pandas as pd\n",
    "import numpy as np\n",
    "from tqdm.notebook import tqdm"
   ]
  },
  {
   "cell_type": "code",
   "execution_count": 2,
   "id": "c6b541b7-471d-4635-a2a3-c61b407aa808",
   "metadata": {},
   "outputs": [
    {
     "data": {
      "text/html": [
       "<div>\n",
       "<style scoped>\n",
       "    .dataframe tbody tr th:only-of-type {\n",
       "        vertical-align: middle;\n",
       "    }\n",
       "\n",
       "    .dataframe tbody tr th {\n",
       "        vertical-align: top;\n",
       "    }\n",
       "\n",
       "    .dataframe thead th {\n",
       "        text-align: right;\n",
       "    }\n",
       "</style>\n",
       "<table border=\"1\" class=\"dataframe\">\n",
       "  <thead>\n",
       "    <tr style=\"text-align: right;\">\n",
       "      <th></th>\n",
       "      <th>congress</th>\n",
       "      <th>bill_number</th>\n",
       "      <th>url</th>\n",
       "    </tr>\n",
       "  </thead>\n",
       "  <tbody>\n",
       "    <tr>\n",
       "      <th>0</th>\n",
       "      <td>111</td>\n",
       "      <td>1</td>\n",
       "      <td>https://www.congress.gov/bill/111th-congress/h...</td>\n",
       "    </tr>\n",
       "    <tr>\n",
       "      <th>1</th>\n",
       "      <td>111</td>\n",
       "      <td>2</td>\n",
       "      <td>https://www.congress.gov/bill/111th-congress/h...</td>\n",
       "    </tr>\n",
       "    <tr>\n",
       "      <th>2</th>\n",
       "      <td>111</td>\n",
       "      <td>81</td>\n",
       "      <td>https://www.congress.gov/bill/111th-congress/h...</td>\n",
       "    </tr>\n",
       "    <tr>\n",
       "      <th>3</th>\n",
       "      <td>111</td>\n",
       "      <td>131</td>\n",
       "      <td>https://www.congress.gov/bill/111th-congress/h...</td>\n",
       "    </tr>\n",
       "    <tr>\n",
       "      <th>4</th>\n",
       "      <td>111</td>\n",
       "      <td>146</td>\n",
       "      <td>https://www.congress.gov/bill/111th-congress/h...</td>\n",
       "    </tr>\n",
       "    <tr>\n",
       "      <th>...</th>\n",
       "      <td>...</td>\n",
       "      <td>...</td>\n",
       "      <td>...</td>\n",
       "    </tr>\n",
       "    <tr>\n",
       "      <th>1156</th>\n",
       "      <td>115</td>\n",
       "      <td>7243</td>\n",
       "      <td>https://www.congress.gov/bill/115th-congress/h...</td>\n",
       "    </tr>\n",
       "    <tr>\n",
       "      <th>1157</th>\n",
       "      <td>115</td>\n",
       "      <td>7279</td>\n",
       "      <td>https://www.congress.gov/bill/115th-congress/h...</td>\n",
       "    </tr>\n",
       "    <tr>\n",
       "      <th>1158</th>\n",
       "      <td>115</td>\n",
       "      <td>7318</td>\n",
       "      <td>https://www.congress.gov/bill/115th-congress/h...</td>\n",
       "    </tr>\n",
       "    <tr>\n",
       "      <th>1159</th>\n",
       "      <td>115</td>\n",
       "      <td>7319</td>\n",
       "      <td>https://www.congress.gov/bill/115th-congress/h...</td>\n",
       "    </tr>\n",
       "    <tr>\n",
       "      <th>1160</th>\n",
       "      <td>115</td>\n",
       "      <td>7327</td>\n",
       "      <td>https://www.congress.gov/bill/115th-congress/h...</td>\n",
       "    </tr>\n",
       "  </tbody>\n",
       "</table>\n",
       "<p>1161 rows × 3 columns</p>\n",
       "</div>"
      ],
      "text/plain": [
       "      congress  bill_number                                                url\n",
       "0          111            1  https://www.congress.gov/bill/111th-congress/h...\n",
       "1          111            2  https://www.congress.gov/bill/111th-congress/h...\n",
       "2          111           81  https://www.congress.gov/bill/111th-congress/h...\n",
       "3          111          131  https://www.congress.gov/bill/111th-congress/h...\n",
       "4          111          146  https://www.congress.gov/bill/111th-congress/h...\n",
       "...        ...          ...                                                ...\n",
       "1156       115         7243  https://www.congress.gov/bill/115th-congress/h...\n",
       "1157       115         7279  https://www.congress.gov/bill/115th-congress/h...\n",
       "1158       115         7318  https://www.congress.gov/bill/115th-congress/h...\n",
       "1159       115         7319  https://www.congress.gov/bill/115th-congress/h...\n",
       "1160       115         7327  https://www.congress.gov/bill/115th-congress/h...\n",
       "\n",
       "[1161 rows x 3 columns]"
      ]
     },
     "execution_count": 2,
     "metadata": {},
     "output_type": "execute_result"
    }
   ],
   "source": [
    "bills_to_scrape = pd.read_csv('bill_to_scrape.csv')\n",
    "bills_to_scrape = bills_to_scrape.sort_values(by=['congress', 'bill_number']).reset_index(drop=True)\n",
    "bills_to_scrape"
   ]
  },
  {
   "cell_type": "code",
   "execution_count": 11,
   "id": "34bbbf7f-a86a-485f-8830-8213f9adc114",
   "metadata": {},
   "outputs": [],
   "source": [
    "bills_df = bills_to_scrape.copy()"
   ]
  },
  {
   "cell_type": "code",
   "execution_count": 3,
   "id": "8d73e752-44a0-4ca6-a247-6130f8749d5b",
   "metadata": {},
   "outputs": [],
   "source": [
    "bills = json.loads(bills_to_scrape.to_json(orient='records'))"
   ]
  },
  {
   "cell_type": "code",
   "execution_count": 4,
   "id": "3e30460b-8336-4ae5-88f1-a167fea0ac99",
   "metadata": {},
   "outputs": [],
   "source": [
    "# Making the punctuation table before the loop, which will be used to replace punctuation with space in the loop\n",
    "punctuation_table = str.maketrans({key: ' ' for key in string.punctuation})"
   ]
  },
  {
   "cell_type": "code",
   "execution_count": 16,
   "id": "5b3fb738-54ab-4a7b-8257-b80f401f2ec2",
   "metadata": {},
   "outputs": [
    {
     "data": {
      "application/vnd.jupyter.widget-view+json": {
       "model_id": "e0ce4077bd7d4e8f91502d32df4c68ac",
       "version_major": 2,
       "version_minor": 0
      },
      "text/plain": [
       "  0%|          | 0/290 [00:00<?, ?it/s]"
      ]
     },
     "metadata": {},
     "output_type": "display_data"
    },
    {
     "name": "stdout",
     "output_type": "stream",
     "text": [
      "111th congress: 3619 does not have #billTextContainer\n"
     ]
    }
   ],
   "source": [
    "for bill in tqdm(bills):\n",
    "# for bill in tqdm(bills[0:290]): # run this line if you want the first 290\n",
    "    congress = bill['congress']\n",
    "    bill_number = bill['bill_number']\n",
    "    bill_url = bill['url']\n",
    "    \n",
    "    with open(f'pages/{congress}_{ bill_number }.html', 'r') as f:\n",
    "\n",
    "        # Parse the page with bs4\n",
    "        soup = BeautifulSoup(f.read(), features='html.parser')\n",
    "\n",
    "        # Find and get what's inside `id='billTextContainer'`\n",
    "        bill_text_container = soup.find(id='billTextContainer')\n",
    "        \n",
    "        try:\n",
    "            bill_text = bill_text_container.get_text()\n",
    "\n",
    "            # Clean up the bill text\n",
    "\n",
    "            # Replace punctuation with space\n",
    "            bill_text_cleaned = bill_text.translate(punctuation_table)\n",
    "\n",
    "            # Replace newlines with space\n",
    "            bill_text_cleaned = re.sub('\\\\n', ' ', bill_text_cleaned)\n",
    "\n",
    "            # Replace multiple spaces with one space\n",
    "            bill_text_cleaned = re.sub('\\s{2,}', ' ', bill_text_cleaned)\n",
    "\n",
    "            # Get the word count\n",
    "            bill_word_count = len(bill_text_cleaned.split())\n",
    "\n",
    "            # # Save the word count into the dataframe\n",
    "            bills_df.loc[\n",
    "                (bills_df['bill_number'] == bill_number) & (bills_df['congress'] == congress), 'word_count'\n",
    "            ] = bill_word_count\n",
    "        except:\n",
    "            pass"
   ]
  },
  {
   "cell_type": "code",
   "execution_count": 15,
   "id": "a3d426fe-3d51-4987-bc48-287e80656f71",
   "metadata": {},
   "outputs": [
    {
     "data": {
      "text/plain": [
       "{'congress': 111,\n",
       " 'bill_number': 3619,\n",
       " 'url': 'https://www.congress.gov/bill/111th-congress/house-bill/3619/text?r=1&s=2&format=txt'}"
      ]
     },
     "execution_count": 15,
     "metadata": {},
     "output_type": "execute_result"
    }
   ],
   "source": [
    "bills[125]"
   ]
  },
  {
   "cell_type": "code",
   "execution_count": 20,
   "id": "61424568-a0a8-4ff5-bf7f-a7cd0eee2ccc",
   "metadata": {},
   "outputs": [
    {
     "data": {
      "text/html": [
       "<div>\n",
       "<style scoped>\n",
       "    .dataframe tbody tr th:only-of-type {\n",
       "        vertical-align: middle;\n",
       "    }\n",
       "\n",
       "    .dataframe tbody tr th {\n",
       "        vertical-align: top;\n",
       "    }\n",
       "\n",
       "    .dataframe thead th {\n",
       "        text-align: right;\n",
       "    }\n",
       "</style>\n",
       "<table border=\"1\" class=\"dataframe\">\n",
       "  <thead>\n",
       "    <tr style=\"text-align: right;\">\n",
       "      <th></th>\n",
       "      <th>congress</th>\n",
       "      <th>bill_number</th>\n",
       "      <th>url</th>\n",
       "      <th>word_count</th>\n",
       "    </tr>\n",
       "  </thead>\n",
       "  <tbody>\n",
       "    <tr>\n",
       "      <th>125</th>\n",
       "      <td>111</td>\n",
       "      <td>3619</td>\n",
       "      <td>https://www.congress.gov/bill/111th-congress/h...</td>\n",
       "      <td>NaN</td>\n",
       "    </tr>\n",
       "  </tbody>\n",
       "</table>\n",
       "</div>"
      ],
      "text/plain": [
       "     congress  bill_number                                                url  \\\n",
       "125       111         3619  https://www.congress.gov/bill/111th-congress/h...   \n",
       "\n",
       "     word_count  \n",
       "125         NaN  "
      ]
     },
     "execution_count": 20,
     "metadata": {},
     "output_type": "execute_result"
    }
   ],
   "source": [
    "bills_df[\n",
    "    (bills_df['congress'] == 111) & \n",
    "    (bills_df['bill_number'] == 3619)\n",
    "]"
   ]
  },
  {
   "cell_type": "code",
   "execution_count": 22,
   "id": "401b849d-1ce8-4434-a461-e8f8e051d31b",
   "metadata": {},
   "outputs": [
    {
     "data": {
      "text/plain": [
       "'https://www.congress.gov/bill/111th-congress/house-bill/3619/text?r=1&s=2&format=txt'"
      ]
     },
     "execution_count": 22,
     "metadata": {},
     "output_type": "execute_result"
    }
   ],
   "source": [
    "bills_df.iloc[125]['url']"
   ]
  },
  {
   "cell_type": "code",
   "execution_count": null,
   "id": "313a453a-e1fd-464f-8583-6b7d31710f8c",
   "metadata": {},
   "outputs": [],
   "source": [
    "bills_df.to_csv('bills.csv', index=False)"
   ]
  }
 ],
 "metadata": {
  "kernelspec": {
   "display_name": "Python 3 (ipykernel)",
   "language": "python",
   "name": "python3"
  },
  "language_info": {
   "codemirror_mode": {
    "name": "ipython",
    "version": 3
   },
   "file_extension": ".py",
   "mimetype": "text/x-python",
   "name": "python",
   "nbconvert_exporter": "python",
   "pygments_lexer": "ipython3",
   "version": "3.8.5"
  }
 },
 "nbformat": 4,
 "nbformat_minor": 5
}
