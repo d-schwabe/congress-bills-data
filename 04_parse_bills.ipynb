{
 "cells": [
  {
   "cell_type": "markdown",
   "id": "75a4a7e2-a412-4824-a5ef-8658dcc9a7c6",
   "metadata": {},
   "source": [
    "# Step 4: Scraping the bill word count data"
   ]
  },
  {
   "cell_type": "markdown",
   "id": "067e59b3-38b1-49a5-9259-24a7f52cc678",
   "metadata": {},
   "source": [
    "## 4.1: Importing necessary packages"
   ]
  },
  {
   "cell_type": "code",
   "execution_count": 23,
   "id": "8f18e301-f61a-4155-bbe1-c6dd3d27eb46",
   "metadata": {},
   "outputs": [],
   "source": [
    "import json\n",
    "import requests\n",
    "from bs4 import BeautifulSoup\n",
    "import re\n",
    "import string\n",
    "import pandas as pd\n",
    "import numpy as np\n",
    "from tqdm.notebook import tqdm"
   ]
  },
  {
   "cell_type": "markdown",
   "id": "8bef11ba-dce9-4142-957a-b4c633d0ed4c",
   "metadata": {},
   "source": [
    "## 4.2: Reading the 'bills_to_scrape.csv' file into a new dataframe and sorting the entries in ascending order by congress number, then bill number\n",
    "The 'bills_to_scrape.csv' file that we created in the previous step is looking great, though it could be better organized. Here we read the csv file into a new dataframe and use the .sort_values function to arrange all the bills within it in ascending order first by congressional session number and second by bill number. This will make our dataset cleanear and easier to analyze later on."
   ]
  },
  {
   "cell_type": "code",
   "execution_count": 32,
   "id": "c6b541b7-471d-4635-a2a3-c61b407aa808",
   "metadata": {},
   "outputs": [
    {
     "data": {
      "text/html": [
       "<div>\n",
       "<style scoped>\n",
       "    .dataframe tbody tr th:only-of-type {\n",
       "        vertical-align: middle;\n",
       "    }\n",
       "\n",
       "    .dataframe tbody tr th {\n",
       "        vertical-align: top;\n",
       "    }\n",
       "\n",
       "    .dataframe thead th {\n",
       "        text-align: right;\n",
       "    }\n",
       "</style>\n",
       "<table border=\"1\" class=\"dataframe\">\n",
       "  <thead>\n",
       "    <tr style=\"text-align: right;\">\n",
       "      <th></th>\n",
       "      <th>congress</th>\n",
       "      <th>bill_number</th>\n",
       "      <th>url</th>\n",
       "    </tr>\n",
       "  </thead>\n",
       "  <tbody>\n",
       "    <tr>\n",
       "      <th>0</th>\n",
       "      <td>106</td>\n",
       "      <td>4</td>\n",
       "      <td>https://www.congress.gov/bill/106th-congress/h...</td>\n",
       "    </tr>\n",
       "    <tr>\n",
       "      <th>1</th>\n",
       "      <td>106</td>\n",
       "      <td>5</td>\n",
       "      <td>https://www.congress.gov/bill/106th-congress/h...</td>\n",
       "    </tr>\n",
       "    <tr>\n",
       "      <th>2</th>\n",
       "      <td>106</td>\n",
       "      <td>15</td>\n",
       "      <td>https://www.congress.gov/bill/106th-congress/h...</td>\n",
       "    </tr>\n",
       "    <tr>\n",
       "      <th>3</th>\n",
       "      <td>106</td>\n",
       "      <td>20</td>\n",
       "      <td>https://www.congress.gov/bill/106th-congress/h...</td>\n",
       "    </tr>\n",
       "    <tr>\n",
       "      <th>4</th>\n",
       "      <td>106</td>\n",
       "      <td>34</td>\n",
       "      <td>https://www.congress.gov/bill/106th-congress/h...</td>\n",
       "    </tr>\n",
       "    <tr>\n",
       "      <th>...</th>\n",
       "      <td>...</td>\n",
       "      <td>...</td>\n",
       "      <td>...</td>\n",
       "    </tr>\n",
       "    <tr>\n",
       "      <th>2766</th>\n",
       "      <td>115</td>\n",
       "      <td>7243</td>\n",
       "      <td>https://www.congress.gov/bill/115th-congress/h...</td>\n",
       "    </tr>\n",
       "    <tr>\n",
       "      <th>2767</th>\n",
       "      <td>115</td>\n",
       "      <td>7279</td>\n",
       "      <td>https://www.congress.gov/bill/115th-congress/h...</td>\n",
       "    </tr>\n",
       "    <tr>\n",
       "      <th>2768</th>\n",
       "      <td>115</td>\n",
       "      <td>7318</td>\n",
       "      <td>https://www.congress.gov/bill/115th-congress/h...</td>\n",
       "    </tr>\n",
       "    <tr>\n",
       "      <th>2769</th>\n",
       "      <td>115</td>\n",
       "      <td>7319</td>\n",
       "      <td>https://www.congress.gov/bill/115th-congress/h...</td>\n",
       "    </tr>\n",
       "    <tr>\n",
       "      <th>2770</th>\n",
       "      <td>115</td>\n",
       "      <td>7327</td>\n",
       "      <td>https://www.congress.gov/bill/115th-congress/h...</td>\n",
       "    </tr>\n",
       "  </tbody>\n",
       "</table>\n",
       "<p>2771 rows × 3 columns</p>\n",
       "</div>"
      ],
      "text/plain": [
       "      congress  bill_number                                                url\n",
       "0          106            4  https://www.congress.gov/bill/106th-congress/h...\n",
       "1          106            5  https://www.congress.gov/bill/106th-congress/h...\n",
       "2          106           15  https://www.congress.gov/bill/106th-congress/h...\n",
       "3          106           20  https://www.congress.gov/bill/106th-congress/h...\n",
       "4          106           34  https://www.congress.gov/bill/106th-congress/h...\n",
       "...        ...          ...                                                ...\n",
       "2766       115         7243  https://www.congress.gov/bill/115th-congress/h...\n",
       "2767       115         7279  https://www.congress.gov/bill/115th-congress/h...\n",
       "2768       115         7318  https://www.congress.gov/bill/115th-congress/h...\n",
       "2769       115         7319  https://www.congress.gov/bill/115th-congress/h...\n",
       "2770       115         7327  https://www.congress.gov/bill/115th-congress/h...\n",
       "\n",
       "[2771 rows x 3 columns]"
      ]
     },
     "execution_count": 32,
     "metadata": {},
     "output_type": "execute_result"
    }
   ],
   "source": [
    "bills_to_scrape = pd.read_csv('bills_to_scrape.csv')\n",
    "bills_to_scrape = bills_to_scrape.sort_values(by=['congress', 'bill_number']).reset_index(drop=True)\n",
    "bills_to_scrape"
   ]
  },
  {
   "cell_type": "markdown",
   "id": "9a325400-7849-4d02-b103-79361894f6bf",
   "metadata": {},
   "source": [
    "## 4.3: Saving a copy of the bills_to_scrape dataframe called bills_df as a backup "
   ]
  },
  {
   "cell_type": "code",
   "execution_count": 33,
   "id": "34bbbf7f-a86a-485f-8830-8213f9adc114",
   "metadata": {},
   "outputs": [],
   "source": [
    "bills_df = bills_to_scrape.copy()"
   ]
  },
  {
   "cell_type": "markdown",
   "id": "439ed3b4-3192-4685-90ef-a51f00389804",
   "metadata": {},
   "source": [
    "## 4.4: Converting the bills_to_scrape dataframe into a json file called bills that we can loop through "
   ]
  },
  {
   "cell_type": "code",
   "execution_count": 34,
   "id": "8d73e752-44a0-4ca6-a247-6130f8749d5b",
   "metadata": {},
   "outputs": [],
   "source": [
    "bills = json.loads(bills_to_scrape.to_json(orient='records'))"
   ]
  },
  {
   "cell_type": "markdown",
   "id": "60d92bf7-7300-4391-8628-7d7d04c47073",
   "metadata": {},
   "source": [
    "## 4.5: Using a for loop and Beautiful Soup to navigate to each bill URL, identify the component of the page that contains the full bill text, get the text, clean it up, get the word count, and store it in a new column called 'word_count'"
   ]
  },
  {
   "cell_type": "code",
   "execution_count": 35,
   "id": "3e30460b-8336-4ae5-88f1-a167fea0ac99",
   "metadata": {},
   "outputs": [],
   "source": [
    "# Making the punctuation table before the loop, which will be used to replace punctuation with space in the loop\n",
    "punctuation_table = str.maketrans({key: ' ' for key in string.punctuation})"
   ]
  },
  {
   "cell_type": "code",
   "execution_count": 36,
   "id": "5b3fb738-54ab-4a7b-8257-b80f401f2ec2",
   "metadata": {},
   "outputs": [
    {
     "data": {
      "application/vnd.jupyter.widget-view+json": {
       "model_id": "7c6641a487c74973accc99bdb5e090bb",
       "version_major": 2,
       "version_minor": 0
      },
      "text/plain": [
       "  0%|          | 0/2771 [00:00<?, ?it/s]"
      ]
     },
     "metadata": {},
     "output_type": "display_data"
    }
   ],
   "source": [
    "for bill in tqdm(bills):\n",
    "# for bill in tqdm(bills[0:290]): # run this line if you want the first 290\n",
    "    congress = bill['congress']\n",
    "    bill_number = bill['bill_number']\n",
    "    bill_url = bill['url']\n",
    "    \n",
    "    with open(f'pages/{congress}_{ bill_number }.html', 'r') as f:\n",
    "\n",
    "        # Parse the page with bs4\n",
    "        soup = BeautifulSoup(f.read(), features='html.parser')\n",
    "\n",
    "        # Find and get what's inside `id='billTextContainer'`\n",
    "        bill_text_container = soup.find(id='billTextContainer')\n",
    "        \n",
    "        try:\n",
    "            bill_text = bill_text_container.get_text()\n",
    "\n",
    "            # Clean up the bill text\n",
    "\n",
    "            # Replace punctuation with space\n",
    "            bill_text_cleaned = bill_text.translate(punctuation_table)\n",
    "\n",
    "            # Replace newlines with space\n",
    "            bill_text_cleaned = re.sub('\\\\n', ' ', bill_text_cleaned)\n",
    "\n",
    "            # Replace multiple spaces with one space\n",
    "            bill_text_cleaned = re.sub('\\s{2,}', ' ', bill_text_cleaned)\n",
    "\n",
    "            # Get the word count\n",
    "            bill_word_count = len(bill_text_cleaned.split())\n",
    "\n",
    "            # # Save the word count into the dataframe\n",
    "            bills_df.loc[\n",
    "                (bills_df['bill_number'] == bill_number) & (bills_df['congress'] == congress), 'word_count'\n",
    "            ] = bill_word_count\n",
    "        except:\n",
    "            pass"
   ]
  },
  {
   "cell_type": "code",
   "execution_count": 39,
   "id": "a3d426fe-3d51-4987-bc48-287e80656f71",
   "metadata": {},
   "outputs": [
    {
     "data": {
      "text/plain": [
       "{'congress': 106,\n",
       " 'bill_number': 1959,\n",
       " 'url': 'https://www.congress.gov/bill/106th-congress/house-bill/1959/text?r=1&s=2&format=txt'}"
      ]
     },
     "execution_count": 39,
     "metadata": {},
     "output_type": "execute_result"
    }
   ],
   "source": [
    "bills[125]"
   ]
  },
  {
   "cell_type": "code",
   "execution_count": 20,
   "id": "61424568-a0a8-4ff5-bf7f-a7cd0eee2ccc",
   "metadata": {},
   "outputs": [
    {
     "data": {
      "text/html": [
       "<div>\n",
       "<style scoped>\n",
       "    .dataframe tbody tr th:only-of-type {\n",
       "        vertical-align: middle;\n",
       "    }\n",
       "\n",
       "    .dataframe tbody tr th {\n",
       "        vertical-align: top;\n",
       "    }\n",
       "\n",
       "    .dataframe thead th {\n",
       "        text-align: right;\n",
       "    }\n",
       "</style>\n",
       "<table border=\"1\" class=\"dataframe\">\n",
       "  <thead>\n",
       "    <tr style=\"text-align: right;\">\n",
       "      <th></th>\n",
       "      <th>congress</th>\n",
       "      <th>bill_number</th>\n",
       "      <th>url</th>\n",
       "      <th>word_count</th>\n",
       "    </tr>\n",
       "  </thead>\n",
       "  <tbody>\n",
       "    <tr>\n",
       "      <th>125</th>\n",
       "      <td>111</td>\n",
       "      <td>3619</td>\n",
       "      <td>https://www.congress.gov/bill/111th-congress/h...</td>\n",
       "      <td>NaN</td>\n",
       "    </tr>\n",
       "  </tbody>\n",
       "</table>\n",
       "</div>"
      ],
      "text/plain": [
       "     congress  bill_number                                                url  \\\n",
       "125       111         3619  https://www.congress.gov/bill/111th-congress/h...   \n",
       "\n",
       "     word_count  \n",
       "125         NaN  "
      ]
     },
     "execution_count": 20,
     "metadata": {},
     "output_type": "execute_result"
    }
   ],
   "source": [
    "bills_df[\n",
    "    (bills_df['congress'] == 111) & \n",
    "    (bills_df['bill_number'] == 3619)\n",
    "]"
   ]
  },
  {
   "cell_type": "code",
   "execution_count": 22,
   "id": "401b849d-1ce8-4434-a461-e8f8e051d31b",
   "metadata": {},
   "outputs": [
    {
     "data": {
      "text/plain": [
       "'https://www.congress.gov/bill/111th-congress/house-bill/3619/text?r=1&s=2&format=txt'"
      ]
     },
     "execution_count": 22,
     "metadata": {},
     "output_type": "execute_result"
    }
   ],
   "source": [
    "bills_df.iloc[125]['url']"
   ]
  },
  {
   "cell_type": "markdown",
   "id": "d611ddbf-d5c8-4b54-8711-cf9323e14da0",
   "metadata": {},
   "source": [
    "## 4.6: Export the updated dataframe to a CSV file for analysis"
   ]
  },
  {
   "cell_type": "code",
   "execution_count": 40,
   "id": "313a453a-e1fd-464f-8583-6b7d31710f8c",
   "metadata": {},
   "outputs": [],
   "source": [
    "bills_df.to_csv('bills.csv', index=False)"
   ]
  }
 ],
 "metadata": {
  "kernelspec": {
   "display_name": "Python 3 (ipykernel)",
   "language": "python",
   "name": "python3"
  },
  "language_info": {
   "codemirror_mode": {
    "name": "ipython",
    "version": 3
   },
   "file_extension": ".py",
   "mimetype": "text/x-python",
   "name": "python",
   "nbconvert_exporter": "python",
   "pygments_lexer": "ipython3",
   "version": "3.8.5"
  }
 },
 "nbformat": 4,
 "nbformat_minor": 5
}
