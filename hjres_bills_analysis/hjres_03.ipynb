{
 "cells": [
  {
   "cell_type": "markdown",
   "id": "793a6a04-6b67-496f-8ede-b719a6b4d7dd",
   "metadata": {},
   "source": [
    "# Step 3: Reading in the HJRes bills for which I'll scrape word count data, sorting them, and grabbing wordcount data"
   ]
  },
  {
   "cell_type": "markdown",
   "id": "a0fec8e8-4f14-4275-9f14-58e0aa4b77a4",
   "metadata": {},
   "source": [
    "## 3.1: Importing the necessary packages"
   ]
  },
  {
   "cell_type": "code",
   "execution_count": 1,
   "id": "82b4a5c4-e7ad-4527-a361-46a3b8b4d6e5",
   "metadata": {},
   "outputs": [
    {
     "name": "stderr",
     "output_type": "stream",
     "text": [
      "/Users/derekschwabe/.pyenv/versions/3.8.5/envs/congress-bills-data-3.8.5/lib/python3.8/site-packages/pandas/compat/__init__.py:124: UserWarning: Could not import the lzma module. Your installed Python is incomplete. Attempting to use lzma compression will result in a RuntimeError.\n",
      "  warnings.warn(msg)\n"
     ]
    }
   ],
   "source": [
    "import json\n",
    "import requests\n",
    "import pandas as pd\n",
    "from tqdm.notebook import tqdm"
   ]
  },
  {
   "cell_type": "markdown",
   "id": "ea340420-ef38-444f-86c0-15b29e9e513f",
   "metadata": {},
   "source": [
    "## 3.2: Reading the 'hjres_bills_to_scrape.csv' file into a new dataframe and sorting the entries in ascending order by congress number, then bill number"
   ]
  },
  {
   "cell_type": "code",
   "execution_count": 2,
   "id": "65b1a53c-318e-444c-9e36-32bfe000a492",
   "metadata": {},
   "outputs": [
    {
     "data": {
      "text/html": [
       "<div>\n",
       "<style scoped>\n",
       "    .dataframe tbody tr th:only-of-type {\n",
       "        vertical-align: middle;\n",
       "    }\n",
       "\n",
       "    .dataframe tbody tr th {\n",
       "        vertical-align: top;\n",
       "    }\n",
       "\n",
       "    .dataframe thead th {\n",
       "        text-align: right;\n",
       "    }\n",
       "</style>\n",
       "<table border=\"1\" class=\"dataframe\">\n",
       "  <thead>\n",
       "    <tr style=\"text-align: right;\">\n",
       "      <th></th>\n",
       "      <th>congress</th>\n",
       "      <th>bill_number</th>\n",
       "      <th>url</th>\n",
       "    </tr>\n",
       "  </thead>\n",
       "  <tbody>\n",
       "    <tr>\n",
       "      <th>0</th>\n",
       "      <td>104</td>\n",
       "      <td>69</td>\n",
       "      <td>https://www.congress.gov/bill/104th-congress/h...</td>\n",
       "    </tr>\n",
       "    <tr>\n",
       "      <th>1</th>\n",
       "      <td>104</td>\n",
       "      <td>78</td>\n",
       "      <td>https://www.congress.gov/bill/104th-congress/h...</td>\n",
       "    </tr>\n",
       "    <tr>\n",
       "      <th>2</th>\n",
       "      <td>104</td>\n",
       "      <td>108</td>\n",
       "      <td>https://www.congress.gov/bill/104th-congress/h...</td>\n",
       "    </tr>\n",
       "    <tr>\n",
       "      <th>3</th>\n",
       "      <td>104</td>\n",
       "      <td>110</td>\n",
       "      <td>https://www.congress.gov/bill/104th-congress/h...</td>\n",
       "    </tr>\n",
       "    <tr>\n",
       "      <th>4</th>\n",
       "      <td>104</td>\n",
       "      <td>111</td>\n",
       "      <td>https://www.congress.gov/bill/104th-congress/h...</td>\n",
       "    </tr>\n",
       "    <tr>\n",
       "      <th>...</th>\n",
       "      <td>...</td>\n",
       "      <td>...</td>\n",
       "      <td>...</td>\n",
       "    </tr>\n",
       "    <tr>\n",
       "      <th>213</th>\n",
       "      <td>116</td>\n",
       "      <td>80</td>\n",
       "      <td>https://www.congress.gov/bill/116th-congress/h...</td>\n",
       "    </tr>\n",
       "    <tr>\n",
       "      <th>214</th>\n",
       "      <td>116</td>\n",
       "      <td>87</td>\n",
       "      <td>https://www.congress.gov/bill/116th-congress/h...</td>\n",
       "    </tr>\n",
       "    <tr>\n",
       "      <th>215</th>\n",
       "      <td>116</td>\n",
       "      <td>88</td>\n",
       "      <td>https://www.congress.gov/bill/116th-congress/h...</td>\n",
       "    </tr>\n",
       "    <tr>\n",
       "      <th>216</th>\n",
       "      <td>116</td>\n",
       "      <td>107</td>\n",
       "      <td>https://www.congress.gov/bill/116th-congress/h...</td>\n",
       "    </tr>\n",
       "    <tr>\n",
       "      <th>217</th>\n",
       "      <td>116</td>\n",
       "      <td>110</td>\n",
       "      <td>https://www.congress.gov/bill/116th-congress/h...</td>\n",
       "    </tr>\n",
       "  </tbody>\n",
       "</table>\n",
       "<p>218 rows × 3 columns</p>\n",
       "</div>"
      ],
      "text/plain": [
       "     congress  bill_number                                                url\n",
       "0         104           69  https://www.congress.gov/bill/104th-congress/h...\n",
       "1         104           78  https://www.congress.gov/bill/104th-congress/h...\n",
       "2         104          108  https://www.congress.gov/bill/104th-congress/h...\n",
       "3         104          110  https://www.congress.gov/bill/104th-congress/h...\n",
       "4         104          111  https://www.congress.gov/bill/104th-congress/h...\n",
       "..        ...          ...                                                ...\n",
       "213       116           80  https://www.congress.gov/bill/116th-congress/h...\n",
       "214       116           87  https://www.congress.gov/bill/116th-congress/h...\n",
       "215       116           88  https://www.congress.gov/bill/116th-congress/h...\n",
       "216       116          107  https://www.congress.gov/bill/116th-congress/h...\n",
       "217       116          110  https://www.congress.gov/bill/116th-congress/h...\n",
       "\n",
       "[218 rows x 3 columns]"
      ]
     },
     "execution_count": 2,
     "metadata": {},
     "output_type": "execute_result"
    }
   ],
   "source": [
    "# Reading csv file into a new dataframe\n",
    "bills_to_scrape = pd.read_csv('hjres_to_scrape.csv')\n",
    "\n",
    "# Sorting the bills by congresional session and bill number\n",
    "bills_to_scrape = bills_to_scrape.sort_values(by=['congress', 'bill_number']).reset_index(drop=True)\n",
    "\n",
    "# Printing the updated dataframe to ensure the sorting worked as intended (it did!)\n",
    "bills_to_scrape"
   ]
  },
  {
   "cell_type": "markdown",
   "id": "6cc0c318-7d2d-44dd-9a8f-3756dae601e1",
   "metadata": {},
   "source": [
    "## 3.3: Looping through the bills to download\n",
    "Here I start by converting to a Python dictionary file format, which is easier to loop through..."
   ]
  },
  {
   "cell_type": "code",
   "execution_count": 3,
   "id": "64f9cbf6-43f3-4285-b8ca-70d8c376ac61",
   "metadata": {},
   "outputs": [],
   "source": [
    "# Creating the new dictionary file\n",
    "bills = json.loads(bills_to_scrape.to_json(orient='records'))"
   ]
  },
  {
   "cell_type": "code",
   "execution_count": 6,
   "id": "bc4af807-7eb7-4eae-97c6-c73e8508c4bc",
   "metadata": {},
   "outputs": [
    {
     "data": {
      "text/plain": [
       "[{'congress': 104,\n",
       "  'bill_number': 248,\n",
       "  'url': 'https://www.congress.gov/bill/104th-congress/house-bill/248/text?r=1&s=2&format=txt'},\n",
       " {'congress': 104,\n",
       "  'bill_number': 255,\n",
       "  'url': 'https://www.congress.gov/bill/104th-congress/house-bill/255/text?r=1&s=2&format=txt'},\n",
       " {'congress': 104,\n",
       "  'bill_number': 325,\n",
       "  'url': 'https://www.congress.gov/bill/104th-congress/house-bill/325/text?r=1&s=2&format=txt'},\n",
       " {'congress': 104,\n",
       "  'bill_number': 394,\n",
       "  'url': 'https://www.congress.gov/bill/104th-congress/house-bill/394/text?r=1&s=2&format=txt'},\n",
       " {'congress': 104,\n",
       "  'bill_number': 395,\n",
       "  'url': 'https://www.congress.gov/bill/104th-congress/house-bill/395/text?r=1&s=2&format=txt'}]"
      ]
     },
     "execution_count": 6,
     "metadata": {},
     "output_type": "execute_result"
    }
   ],
   "source": [
    "# Taking a quick look at the dictionary file to make sure it's looking as intended (it is!)\n",
    "bills[0:5]"
   ]
  },
  {
   "cell_type": "code",
   "execution_count": 7,
   "id": "a8475313-4b32-42f3-a5d4-f445a40293ef",
   "metadata": {},
   "outputs": [],
   "source": [
    "!mkdir -p pages"
   ]
  },
  {
   "cell_type": "markdown",
   "id": "545148f6-cc57-412b-b469-104944474e32",
   "metadata": {},
   "source": [
    "## 3.4: Using a for loop to download all the .html pages on Congress.gov that contain the full text of each bill\n"
   ]
  },
  {
   "cell_type": "code",
   "execution_count": 4,
   "id": "1eee2552-b429-4057-9f92-7c82f8b5a476",
   "metadata": {},
   "outputs": [
    {
     "data": {
      "application/vnd.jupyter.widget-view+json": {
       "model_id": "8fa425cb52544d9294cfa8f941028661",
       "version_major": 2,
       "version_minor": 0
      },
      "text/plain": [
       "  0%|          | 0/218 [00:00<?, ?it/s]"
      ]
     },
     "metadata": {},
     "output_type": "display_data"
    }
   ],
   "source": [
    "# Looping through bills to download bill urls and text of all enacted bills\n",
    "for bill in tqdm(bills):\n",
    "    congress = bill['congress']\n",
    "    bill_number = bill['bill_number']\n",
    "    bill_url = bill['url']\n",
    "    # Request the URL\n",
    "    page = requests.get(bill_url)\n",
    "    \n",
    "    # Save the HTML of the URL\n",
    "    # See string_interpolation.ipynb notebook in this repo for how f-strings work\n",
    "    with open(f'pages/hjres/{congress}_{ bill_number }.html', 'w') as f:\n",
    "        f.write(page.text)"
   ]
  }
 ],
 "metadata": {
  "kernelspec": {
   "display_name": "Python 3 (ipykernel)",
   "language": "python",
   "name": "python3"
  },
  "language_info": {
   "codemirror_mode": {
    "name": "ipython",
    "version": 3
   },
   "file_extension": ".py",
   "mimetype": "text/x-python",
   "name": "python",
   "nbconvert_exporter": "python",
   "pygments_lexer": "ipython3",
   "version": "3.8.5"
  }
 },
 "nbformat": 4,
 "nbformat_minor": 5
}
