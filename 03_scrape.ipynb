{
 "cells": [
  {
   "cell_type": "code",
   "execution_count": 1,
   "id": "82b4a5c4-e7ad-4527-a361-46a3b8b4d6e5",
   "metadata": {},
   "outputs": [
    {
     "name": "stderr",
     "output_type": "stream",
     "text": [
      "/Users/derekschwabe/.pyenv/versions/3.8.5/envs/congress-bills-data-3.8.5/lib/python3.8/site-packages/pandas/compat/__init__.py:124: UserWarning: Could not import the lzma module. Your installed Python is incomplete. Attempting to use lzma compression will result in a RuntimeError.\n",
      "  warnings.warn(msg)\n"
     ]
    }
   ],
   "source": [
    "import pandas as pd"
   ]
  },
  {
   "cell_type": "code",
   "execution_count": 3,
   "id": "65b1a53c-318e-444c-9e36-32bfe000a492",
   "metadata": {},
   "outputs": [
    {
     "data": {
      "text/html": [
       "<div>\n",
       "<style scoped>\n",
       "    .dataframe tbody tr th:only-of-type {\n",
       "        vertical-align: middle;\n",
       "    }\n",
       "\n",
       "    .dataframe tbody tr th {\n",
       "        vertical-align: top;\n",
       "    }\n",
       "\n",
       "    .dataframe thead th {\n",
       "        text-align: right;\n",
       "    }\n",
       "</style>\n",
       "<table border=\"1\" class=\"dataframe\">\n",
       "  <thead>\n",
       "    <tr style=\"text-align: right;\">\n",
       "      <th></th>\n",
       "      <th>congress</th>\n",
       "      <th>bill_number</th>\n",
       "      <th>url</th>\n",
       "    </tr>\n",
       "  </thead>\n",
       "  <tbody>\n",
       "    <tr>\n",
       "      <th>0</th>\n",
       "      <td>111</td>\n",
       "      <td>5014</td>\n",
       "      <td>https://www.congress.gov/bill/115th-congress/h...</td>\n",
       "    </tr>\n",
       "    <tr>\n",
       "      <th>1</th>\n",
       "      <td>111</td>\n",
       "      <td>5470</td>\n",
       "      <td>https://www.congress.gov/bill/115th-congress/h...</td>\n",
       "    </tr>\n",
       "    <tr>\n",
       "      <th>2</th>\n",
       "      <td>111</td>\n",
       "      <td>2004</td>\n",
       "      <td>https://www.congress.gov/bill/115th-congress/h...</td>\n",
       "    </tr>\n",
       "    <tr>\n",
       "      <th>3</th>\n",
       "      <td>111</td>\n",
       "      <td>3114</td>\n",
       "      <td>https://www.congress.gov/bill/115th-congress/h...</td>\n",
       "    </tr>\n",
       "    <tr>\n",
       "      <th>4</th>\n",
       "      <td>111</td>\n",
       "      <td>3326</td>\n",
       "      <td>https://www.congress.gov/bill/115th-congress/h...</td>\n",
       "    </tr>\n",
       "    <tr>\n",
       "      <th>...</th>\n",
       "      <td>...</td>\n",
       "      <td>...</td>\n",
       "      <td>...</td>\n",
       "    </tr>\n",
       "    <tr>\n",
       "      <th>1156</th>\n",
       "      <td>115</td>\n",
       "      <td>6414</td>\n",
       "      <td>https://www.congress.gov/bill/115th-congress/h...</td>\n",
       "    </tr>\n",
       "    <tr>\n",
       "      <th>1157</th>\n",
       "      <td>115</td>\n",
       "      <td>2611</td>\n",
       "      <td>https://www.congress.gov/bill/115th-congress/h...</td>\n",
       "    </tr>\n",
       "    <tr>\n",
       "      <th>1158</th>\n",
       "      <td>115</td>\n",
       "      <td>6621</td>\n",
       "      <td>https://www.congress.gov/bill/115th-congress/h...</td>\n",
       "    </tr>\n",
       "    <tr>\n",
       "      <th>1159</th>\n",
       "      <td>115</td>\n",
       "      <td>3996</td>\n",
       "      <td>https://www.congress.gov/bill/115th-congress/h...</td>\n",
       "    </tr>\n",
       "    <tr>\n",
       "      <th>1160</th>\n",
       "      <td>115</td>\n",
       "      <td>3398</td>\n",
       "      <td>https://www.congress.gov/bill/115th-congress/h...</td>\n",
       "    </tr>\n",
       "  </tbody>\n",
       "</table>\n",
       "<p>1161 rows × 3 columns</p>\n",
       "</div>"
      ],
      "text/plain": [
       "      congress  bill_number                                                url\n",
       "0          111         5014  https://www.congress.gov/bill/115th-congress/h...\n",
       "1          111         5470  https://www.congress.gov/bill/115th-congress/h...\n",
       "2          111         2004  https://www.congress.gov/bill/115th-congress/h...\n",
       "3          111         3114  https://www.congress.gov/bill/115th-congress/h...\n",
       "4          111         3326  https://www.congress.gov/bill/115th-congress/h...\n",
       "...        ...          ...                                                ...\n",
       "1156       115         6414  https://www.congress.gov/bill/115th-congress/h...\n",
       "1157       115         2611  https://www.congress.gov/bill/115th-congress/h...\n",
       "1158       115         6621  https://www.congress.gov/bill/115th-congress/h...\n",
       "1159       115         3996  https://www.congress.gov/bill/115th-congress/h...\n",
       "1160       115         3398  https://www.congress.gov/bill/115th-congress/h...\n",
       "\n",
       "[1161 rows x 3 columns]"
      ]
     },
     "execution_count": 3,
     "metadata": {},
     "output_type": "execute_result"
    }
   ],
   "source": [
    "bills_to_scrape = pd.read_csv('bill_to_scrape.csv')\n",
    "bills_to_scrape"
   ]
  },
  {
   "cell_type": "code",
   "execution_count": 5,
   "id": "e1cbe1f4-507f-4d52-a5f7-d7f4cb143eec",
   "metadata": {},
   "outputs": [
    {
     "data": {
      "text/plain": [
       "array(['https://www.congress.gov/bill/115th-congress/house-bill/5014/text?r=1&s=2',\n",
       "       'https://www.congress.gov/bill/115th-congress/house-bill/5470/text?r=1&s=2',\n",
       "       'https://www.congress.gov/bill/115th-congress/house-bill/2004/text?r=1&s=2',\n",
       "       ...,\n",
       "       'https://www.congress.gov/bill/115th-congress/house-bill/374/text?r=1&s=2',\n",
       "       'https://www.congress.gov/bill/115th-congress/house-bill/6414/text?r=1&s=2',\n",
       "       'https://www.congress.gov/bill/115th-congress/house-bill/3398/text?r=1&s=2'],\n",
       "      dtype=object)"
      ]
     },
     "execution_count": 5,
     "metadata": {},
     "output_type": "execute_result"
    }
   ],
   "source": [
    "bills_to_scrape['url'].unique()"
   ]
  },
  {
   "cell_type": "code",
   "execution_count": 6,
   "id": "a8475313-4b32-42f3-a5d4-f445a40293ef",
   "metadata": {},
   "outputs": [],
   "source": [
    "!mkdir -p pages"
   ]
  },
  {
   "cell_type": "code",
   "execution_count": null,
   "id": "1eee2552-b429-4057-9f92-7c82f8b5a476",
   "metadata": {},
   "outputs": [],
   "source": []
  }
 ],
 "metadata": {
  "kernelspec": {
   "display_name": "Python 3 (ipykernel)",
   "language": "python",
   "name": "python3"
  },
  "language_info": {
   "codemirror_mode": {
    "name": "ipython",
    "version": 3
   },
   "file_extension": ".py",
   "mimetype": "text/x-python",
   "name": "python",
   "nbconvert_exporter": "python",
   "pygments_lexer": "ipython3",
   "version": "3.8.5"
  }
 },
 "nbformat": 4,
 "nbformat_minor": 5
}
