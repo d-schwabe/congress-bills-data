{
 "cells": [
  {
   "cell_type": "markdown",
   "id": "effcf7a5-c76c-4aba-a912-77dbba770392",
   "metadata": {},
   "source": [
    "# Step 2: Parsing S Bills Data from the 104th-116th Congressional Sessions"
   ]
  },
  {
   "cell_type": "markdown",
   "id": "7e21138c-b15a-4bcb-89eb-f0295a8a9d4d",
   "metadata": {},
   "source": [
    "## 2.1: Importing necessary packages"
   ]
  },
  {
   "cell_type": "code",
   "execution_count": 6,
   "id": "4c237ad1-81cc-4e01-893b-59e4cefb5a4f",
   "metadata": {},
   "outputs": [],
   "source": [
    "import json\n",
    "import pandas as pd\n",
    "# Importing glob, which is a package that... (see link here: https://docs.python.org/3/library/glob.html)\n",
    "import glob\n",
    "import os\n",
    "# Importing os...(see link here: https://docs.python.org/3/library/glob.html)\n",
    "from tqdm.notebook import tqdm"
   ]
  },
  {
   "cell_type": "markdown",
   "id": "eadc0625-c5c1-4a3e-8ea7-0f523cc89766",
   "metadata": {},
   "source": [
    "## 2.2: Creating a list called bill_paths to store only the file paths within our new data directory that include information on the bills of interest"
   ]
  },
  {
   "cell_type": "code",
   "execution_count": 12,
   "id": "566d1bc4-50de-4540-a3ec-ab576925ae2c",
   "metadata": {},
   "outputs": [],
   "source": [
    "bill_paths = []\n",
    "for n in range(104,117):\n",
    "    # Check file paths patterns \n",
    "    file_paths = {\n",
    "        104: glob.glob(f'../data/{n}/s/' + '*' + os.path.sep),\n",
    "        105: glob.glob(f'../data/{n}/s/' + '*' + os.path.sep),\n",
    "        106: glob.glob(f'../data/{n}/bills/s/' + '*' + os.path.sep),\n",
    "        107: glob.glob(f'../data/{n}/bills/s/' + '*' + os.path.sep),\n",
    "        108: glob.glob(f'../data/{n}/bills/s/' + '*' + os.path.sep),\n",
    "        109: glob.glob(f'../data/{n}/bills/s/' + '*' + os.path.sep),\n",
    "        110: glob.glob(f'../data/{n}/bills/s/' + '*' + os.path.sep),\n",
    "        111: glob.glob(f'../data/{n}/bills/s/' + '*' + os.path.sep),\n",
    "        112: glob.glob(f'../data/{n}/bills/s/' + '*' + os.path.sep),\n",
    "        113: glob.glob(f'../data/{n}/congress/data/{n}/bills/s/' + '*' + os.path.sep),\n",
    "        114: glob.glob(f'../data/{n}/congress/data/{n}/bills/s/' + '*' + os.path.sep),\n",
    "        115: glob.glob(f'../data/{n}/{n}/bills/s/' + '*' + os.path.sep),\n",
    "        116: glob.glob(f'../data/{n}/congress/data/{n}/bills/s/' + '*' + os.path.sep)\n",
    "    }\n",
    "    file_path = file_paths[n]\n",
    "        \n",
    "    bill_paths.extend(file_path)"
   ]
  },
  {
   "cell_type": "markdown",
   "id": "647b719f-4e52-456a-9b63-bb1873d427d3",
   "metadata": {},
   "source": [
    "### Checking out the length of the list to get a sense of how many bills it contains"
   ]
  },
  {
   "cell_type": "code",
   "execution_count": 13,
   "id": "649b60e9-376c-409c-bdb7-7da9212f9a24",
   "metadata": {},
   "outputs": [
    {
     "data": {
      "text/plain": [
       "45437"
      ]
     },
     "execution_count": 13,
     "metadata": {},
     "output_type": "execute_result"
    }
   ],
   "source": [
    "len(bill_paths)"
   ]
  },
  {
   "cell_type": "markdown",
   "id": "fade41c5-c8d2-43a4-974b-4ae4576b8242",
   "metadata": {},
   "source": [
    "## 2.3: Creating another list and using another for loop to store data on only bills that have been signed into law"
   ]
  },
  {
   "cell_type": "code",
   "execution_count": 14,
   "id": "d929b0a8-144e-4a0d-8ab5-49cb52533966",
   "metadata": {},
   "outputs": [
    {
     "data": {
      "application/vnd.jupyter.widget-view+json": {
       "model_id": "0387a14c574242fa8c2a03294380c9cb",
       "version_major": 2,
       "version_minor": 0
      },
      "text/plain": [
       "  0%|          | 0/45437 [00:00<?, ?it/s]"
      ]
     },
     "metadata": {},
     "output_type": "display_data"
    },
    {
     "name": "stdout",
     "output_type": "stream",
     "text": [
      "Failed for  ../data/113/congress/data/113/bills/s/s1696/\n",
      "[Errno 2] No such file or directory: '../data/113/congress/data/113/bills/s/s1696/data.json'\n"
     ]
    }
   ],
   "source": [
    "# empty list to collect bills that passed\n",
    "passed_bills = []\n",
    "no_json = []\n",
    "\n",
    "# loop over all the bill_paths\n",
    "for bill_path in tqdm(bill_paths):\n",
    "    try:    \n",
    "        # there's a data.json file in every bill_path\n",
    "        file_name = f'{ bill_path }data.json'\n",
    "\n",
    "        # read the json\n",
    "        with open(file_name) as f:\n",
    "            bill_json = json.load(f)\n",
    "            # every bill has a status key; i only want the ones where\n",
    "            # `status` is 'ENACTED:SIGNED'\n",
    "            if bill_json['status'] == 'ENACTED:SIGNED':\n",
    "                # append bill_path to list if it was enacted/signed\n",
    "                passed_bills.append(bill_path)\n",
    "        \n",
    "        #print('Found for ', str(bill_path))\n",
    "    except Exception as e: \n",
    "        print('Failed for ', str(bill_path))\n",
    "        print(e)\n",
    "        no_json.append(bill_path)"
   ]
  },
  {
   "cell_type": "markdown",
   "id": "fb001721-fe77-40cd-8f41-6091f14090bb",
   "metadata": {},
   "source": [
    "### Checking out the length of the passed_bills list to get a sense of how many bills it contains"
   ]
  },
  {
   "cell_type": "code",
   "execution_count": 15,
   "id": "378f2460-3532-435d-87a1-ac590cffe696",
   "metadata": {},
   "outputs": [
    {
     "data": {
      "text/plain": [
       "1481"
      ]
     },
     "execution_count": 15,
     "metadata": {},
     "output_type": "execute_result"
    }
   ],
   "source": [
    "len(passed_bills)"
   ]
  },
  {
   "cell_type": "markdown",
   "id": "b346935b-d24d-4f56-be6c-b29047d5d2b1",
   "metadata": {},
   "source": [
    "## 2.4: Creating another list and using another for loop to extract only the few datapoints we're interested in within our list of passed bills"
   ]
  },
  {
   "cell_type": "code",
   "execution_count": 16,
   "id": "c5164ddd-3b3d-49a4-9a3c-25dd8ba4f490",
   "metadata": {},
   "outputs": [],
   "source": [
    "#Creating a list called bills_data that will store only the data points of interest\n",
    "bills_data = []\n",
    "for bill_path in passed_bills:\n",
    "    \n",
    "    # Every bill_path contains a data.json file. With string interpolation, we can grab these files.\n",
    "    file_name = f'{ bill_path }/data.json'\n",
    "    \n",
    "    # Reading the json and extracting data on key variables as well as adding the URL to the full bill text\n",
    "    with open(file_name) as f:\n",
    "        bill_json = json.load(f)\n",
    "        congress = bill_json['congress']\n",
    "        bill_number = bill_json['number']\n",
    "        bill_url = f'https://www.congress.gov/bill/{ congress }th-congress/senate-bill/{ bill_number }/text?r=1&s=2&format=txt'\n",
    "        bills_data.append({\n",
    "            'congress': congress,\n",
    "            'bill_number': bill_number,\n",
    "            'url': bill_url\n",
    "        })\n",
    "# Converting the bills_data list into a tabular format as a dataframe called 'bills'        \n",
    "bills = pd.DataFrame(bills_data)"
   ]
  },
  {
   "cell_type": "code",
   "execution_count": 17,
   "id": "8734b0cf-67a3-4a08-99a4-3835eaea6958",
   "metadata": {},
   "outputs": [
    {
     "data": {
      "text/html": [
       "<div>\n",
       "<style scoped>\n",
       "    .dataframe tbody tr th:only-of-type {\n",
       "        vertical-align: middle;\n",
       "    }\n",
       "\n",
       "    .dataframe tbody tr th {\n",
       "        vertical-align: top;\n",
       "    }\n",
       "\n",
       "    .dataframe thead th {\n",
       "        text-align: right;\n",
       "    }\n",
       "</style>\n",
       "<table border=\"1\" class=\"dataframe\">\n",
       "  <thead>\n",
       "    <tr style=\"text-align: right;\">\n",
       "      <th></th>\n",
       "      <th>congress</th>\n",
       "      <th>bill_number</th>\n",
       "      <th>url</th>\n",
       "    </tr>\n",
       "  </thead>\n",
       "  <tbody>\n",
       "    <tr>\n",
       "      <th>0</th>\n",
       "      <td>104</td>\n",
       "      <td>2198</td>\n",
       "      <td>https://www.congress.gov/bill/104th-congress/s...</td>\n",
       "    </tr>\n",
       "    <tr>\n",
       "      <th>1</th>\n",
       "      <td>104</td>\n",
       "      <td>2153</td>\n",
       "      <td>https://www.congress.gov/bill/104th-congress/s...</td>\n",
       "    </tr>\n",
       "    <tr>\n",
       "      <th>2</th>\n",
       "      <td>104</td>\n",
       "      <td>1970</td>\n",
       "      <td>https://www.congress.gov/bill/104th-congress/s...</td>\n",
       "    </tr>\n",
       "    <tr>\n",
       "      <th>3</th>\n",
       "      <td>104</td>\n",
       "      <td>1341</td>\n",
       "      <td>https://www.congress.gov/bill/104th-congress/s...</td>\n",
       "    </tr>\n",
       "    <tr>\n",
       "      <th>4</th>\n",
       "      <td>104</td>\n",
       "      <td>1111</td>\n",
       "      <td>https://www.congress.gov/bill/104th-congress/s...</td>\n",
       "    </tr>\n",
       "    <tr>\n",
       "      <th>...</th>\n",
       "      <td>...</td>\n",
       "      <td>...</td>\n",
       "      <td>...</td>\n",
       "    </tr>\n",
       "    <tr>\n",
       "      <th>1476</th>\n",
       "      <td>116</td>\n",
       "      <td>24</td>\n",
       "      <td>https://www.congress.gov/bill/116th-congress/s...</td>\n",
       "    </tr>\n",
       "    <tr>\n",
       "      <th>1477</th>\n",
       "      <td>116</td>\n",
       "      <td>163</td>\n",
       "      <td>https://www.congress.gov/bill/116th-congress/s...</td>\n",
       "    </tr>\n",
       "    <tr>\n",
       "      <th>1478</th>\n",
       "      <td>116</td>\n",
       "      <td>199</td>\n",
       "      <td>https://www.congress.gov/bill/116th-congress/s...</td>\n",
       "    </tr>\n",
       "    <tr>\n",
       "      <th>1479</th>\n",
       "      <td>116</td>\n",
       "      <td>394</td>\n",
       "      <td>https://www.congress.gov/bill/116th-congress/s...</td>\n",
       "    </tr>\n",
       "    <tr>\n",
       "      <th>1480</th>\n",
       "      <td>116</td>\n",
       "      <td>2746</td>\n",
       "      <td>https://www.congress.gov/bill/116th-congress/s...</td>\n",
       "    </tr>\n",
       "  </tbody>\n",
       "</table>\n",
       "<p>1481 rows × 3 columns</p>\n",
       "</div>"
      ],
      "text/plain": [
       "     congress bill_number                                                url\n",
       "0         104        2198  https://www.congress.gov/bill/104th-congress/s...\n",
       "1         104        2153  https://www.congress.gov/bill/104th-congress/s...\n",
       "2         104        1970  https://www.congress.gov/bill/104th-congress/s...\n",
       "3         104        1341  https://www.congress.gov/bill/104th-congress/s...\n",
       "4         104        1111  https://www.congress.gov/bill/104th-congress/s...\n",
       "...       ...         ...                                                ...\n",
       "1476      116          24  https://www.congress.gov/bill/116th-congress/s...\n",
       "1477      116         163  https://www.congress.gov/bill/116th-congress/s...\n",
       "1478      116         199  https://www.congress.gov/bill/116th-congress/s...\n",
       "1479      116         394  https://www.congress.gov/bill/116th-congress/s...\n",
       "1480      116        2746  https://www.congress.gov/bill/116th-congress/s...\n",
       "\n",
       "[1481 rows x 3 columns]"
      ]
     },
     "execution_count": 17,
     "metadata": {},
     "output_type": "execute_result"
    }
   ],
   "source": [
    "# Printing the bills list to take a glance and see if it is looking the way we expect. It seems that it is!\n",
    "bills"
   ]
  },
  {
   "cell_type": "markdown",
   "id": "5a9b6e7f-0b34-45d8-8634-5f7e3f0ec5e9",
   "metadata": {},
   "source": [
    "## 2.4: Exporting our new dataframe to a CSV format for scraping in the next step"
   ]
  },
  {
   "cell_type": "code",
   "execution_count": 19,
   "id": "8b4b317e-8263-4332-b31c-cc077deb7552",
   "metadata": {},
   "outputs": [],
   "source": [
    "# Exporting the dataframe to a csv format, which we can use in the next step to scrape and add the word count for each bill\n",
    "bills.to_csv('senate_bills_to_scrape.csv', index=False)"
   ]
  },
  {
   "cell_type": "code",
   "execution_count": null,
   "id": "d7dcc5b3-f494-4cd9-b606-3a457724a213",
   "metadata": {},
   "outputs": [],
   "source": []
  }
 ],
 "metadata": {
  "kernelspec": {
   "display_name": "Python 3 (ipykernel)",
   "language": "python",
   "name": "python3"
  },
  "language_info": {
   "codemirror_mode": {
    "name": "ipython",
    "version": 3
   },
   "file_extension": ".py",
   "mimetype": "text/x-python",
   "name": "python",
   "nbconvert_exporter": "python",
   "pygments_lexer": "ipython3",
   "version": "3.8.5"
  }
 },
 "nbformat": 4,
 "nbformat_minor": 5
}
