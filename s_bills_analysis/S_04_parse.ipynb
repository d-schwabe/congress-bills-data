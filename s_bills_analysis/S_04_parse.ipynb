{
 "cells": [
  {
   "cell_type": "markdown",
   "id": "75a4a7e2-a412-4824-a5ef-8658dcc9a7c6",
   "metadata": {},
   "source": [
    "# Step 4: Scraping the Senate bill word count data"
   ]
  },
  {
   "cell_type": "markdown",
   "id": "067e59b3-38b1-49a5-9259-24a7f52cc678",
   "metadata": {},
   "source": [
    "## 4.1: Importing necessary packages"
   ]
  },
  {
   "cell_type": "code",
   "execution_count": null,
   "id": "8f18e301-f61a-4155-bbe1-c6dd3d27eb46",
   "metadata": {},
   "outputs": [
    {
     "name": "stderr",
     "output_type": "stream",
     "text": [
      "/Users/derekschwabe/.pyenv/versions/3.8.5/envs/congress-bills-data-3.8.5/lib/python3.8/site-packages/pandas/compat/__init__.py:124: UserWarning: Could not import the lzma module. Your installed Python is incomplete. Attempting to use lzma compression will result in a RuntimeError.\n",
      "  warnings.warn(msg)\n"
     ]
    },
    {
     "ename": "ModuleNotFoundError",
     "evalue": "No module named 'vega_datasets'",
     "output_type": "error",
     "traceback": [
      "\u001b[0;31m---------------------------------------------------------------------------\u001b[0m",
      "\u001b[0;31mModuleNotFoundError\u001b[0m                       Traceback (most recent call last)",
      "\u001b[0;32m/var/folders/8f/ltkfkrqs0td3f4qqg71t50t40000gn/T/ipykernel_8744/4188303539.py\u001b[0m in \u001b[0;36m<module>\u001b[0;34m\u001b[0m\n\u001b[1;32m      1\u001b[0m \u001b[0;32mimport\u001b[0m \u001b[0mpandas\u001b[0m \u001b[0;32mas\u001b[0m \u001b[0mpd\u001b[0m\u001b[0;34m\u001b[0m\u001b[0;34m\u001b[0m\u001b[0m\n\u001b[1;32m      2\u001b[0m \u001b[0;32mimport\u001b[0m \u001b[0maltair\u001b[0m \u001b[0;32mas\u001b[0m \u001b[0malt\u001b[0m\u001b[0;34m\u001b[0m\u001b[0;34m\u001b[0m\u001b[0m\n\u001b[0;32m----> 3\u001b[0;31m \u001b[0;32mfrom\u001b[0m \u001b[0mvega_datasets\u001b[0m \u001b[0;32mimport\u001b[0m \u001b[0mdata\u001b[0m\u001b[0;34m\u001b[0m\u001b[0;34m\u001b[0m\u001b[0m\n\u001b[0m\u001b[1;32m      4\u001b[0m \u001b[0;32mimport\u001b[0m \u001b[0mrequests\u001b[0m\u001b[0;34m\u001b[0m\u001b[0;34m\u001b[0m\u001b[0m\n",
      "\u001b[0;31mModuleNotFoundError\u001b[0m: No module named 'vega_datasets'"
     ]
    }
   ],
   "source": [
    "import json\n",
    "import requests\n",
    "from bs4 import BeautifulSoup\n",
    "import re\n",
    "import string\n",
    "import pandas as pd\n",
    "import numpy as np\n",
    "from tqdm.notebook import tqdm"
   ]
  },
  {
   "cell_type": "markdown",
   "id": "8bef11ba-dce9-4142-957a-b4c633d0ed4c",
   "metadata": {},
   "source": [
    "## 4.2: Reading the 'senate_bills_to_scrape.csv' file into a new dataframe and sorting the entries in ascending order by congress number, then bill number"
   ]
  },
  {
   "cell_type": "code",
   "execution_count": 9,
   "id": "c6b541b7-471d-4635-a2a3-c61b407aa808",
   "metadata": {},
   "outputs": [
    {
     "data": {
      "text/html": [
       "<div>\n",
       "<style scoped>\n",
       "    .dataframe tbody tr th:only-of-type {\n",
       "        vertical-align: middle;\n",
       "    }\n",
       "\n",
       "    .dataframe tbody tr th {\n",
       "        vertical-align: top;\n",
       "    }\n",
       "\n",
       "    .dataframe thead th {\n",
       "        text-align: right;\n",
       "    }\n",
       "</style>\n",
       "<table border=\"1\" class=\"dataframe\">\n",
       "  <thead>\n",
       "    <tr style=\"text-align: right;\">\n",
       "      <th></th>\n",
       "      <th>congress</th>\n",
       "      <th>bill_number</th>\n",
       "      <th>url</th>\n",
       "    </tr>\n",
       "  </thead>\n",
       "  <tbody>\n",
       "    <tr>\n",
       "      <th>0</th>\n",
       "      <td>104</td>\n",
       "      <td>1</td>\n",
       "      <td>https://www.congress.gov/bill/104th-congress/senate-bill/1/text?r=1&amp;s=2&amp;format=txt</td>\n",
       "    </tr>\n",
       "    <tr>\n",
       "      <th>1</th>\n",
       "      <td>104</td>\n",
       "      <td>2</td>\n",
       "      <td>https://www.congress.gov/bill/104th-congress/senate-bill/2/text?r=1&amp;s=2&amp;format=txt</td>\n",
       "    </tr>\n",
       "    <tr>\n",
       "      <th>2</th>\n",
       "      <td>104</td>\n",
       "      <td>4</td>\n",
       "      <td>https://www.congress.gov/bill/104th-congress/senate-bill/4/text?r=1&amp;s=2&amp;format=txt</td>\n",
       "    </tr>\n",
       "    <tr>\n",
       "      <th>3</th>\n",
       "      <td>104</td>\n",
       "      <td>39</td>\n",
       "      <td>https://www.congress.gov/bill/104th-congress/senate-bill/39/text?r=1&amp;s=2&amp;format=txt</td>\n",
       "    </tr>\n",
       "    <tr>\n",
       "      <th>4</th>\n",
       "      <td>104</td>\n",
       "      <td>178</td>\n",
       "      <td>https://www.congress.gov/bill/104th-congress/senate-bill/178/text?r=1&amp;s=2&amp;format=txt</td>\n",
       "    </tr>\n",
       "    <tr>\n",
       "      <th>...</th>\n",
       "      <td>...</td>\n",
       "      <td>...</td>\n",
       "      <td>...</td>\n",
       "    </tr>\n",
       "    <tr>\n",
       "      <th>1476</th>\n",
       "      <td>116</td>\n",
       "      <td>4116</td>\n",
       "      <td>https://www.congress.gov/bill/116th-congress/senate-bill/4116/text?r=1&amp;s=2&amp;format=txt</td>\n",
       "    </tr>\n",
       "    <tr>\n",
       "      <th>1477</th>\n",
       "      <td>116</td>\n",
       "      <td>4148</td>\n",
       "      <td>https://www.congress.gov/bill/116th-congress/senate-bill/4148/text?r=1&amp;s=2&amp;format=txt</td>\n",
       "    </tr>\n",
       "    <tr>\n",
       "      <th>1478</th>\n",
       "      <td>116</td>\n",
       "      <td>4209</td>\n",
       "      <td>https://www.congress.gov/bill/116th-congress/senate-bill/4209/text?r=1&amp;s=2&amp;format=txt</td>\n",
       "    </tr>\n",
       "    <tr>\n",
       "      <th>1479</th>\n",
       "      <td>116</td>\n",
       "      <td>4762</td>\n",
       "      <td>https://www.congress.gov/bill/116th-congress/senate-bill/4762/text?r=1&amp;s=2&amp;format=txt</td>\n",
       "    </tr>\n",
       "    <tr>\n",
       "      <th>1480</th>\n",
       "      <td>116</td>\n",
       "      <td>4902</td>\n",
       "      <td>https://www.congress.gov/bill/116th-congress/senate-bill/4902/text?r=1&amp;s=2&amp;format=txt</td>\n",
       "    </tr>\n",
       "  </tbody>\n",
       "</table>\n",
       "<p>1481 rows × 3 columns</p>\n",
       "</div>"
      ],
      "text/plain": [
       "      congress  bill_number  \\\n",
       "0          104            1   \n",
       "1          104            2   \n",
       "2          104            4   \n",
       "3          104           39   \n",
       "4          104          178   \n",
       "...        ...          ...   \n",
       "1476       116         4116   \n",
       "1477       116         4148   \n",
       "1478       116         4209   \n",
       "1479       116         4762   \n",
       "1480       116         4902   \n",
       "\n",
       "                                                                                        url  \n",
       "0        https://www.congress.gov/bill/104th-congress/senate-bill/1/text?r=1&s=2&format=txt  \n",
       "1        https://www.congress.gov/bill/104th-congress/senate-bill/2/text?r=1&s=2&format=txt  \n",
       "2        https://www.congress.gov/bill/104th-congress/senate-bill/4/text?r=1&s=2&format=txt  \n",
       "3       https://www.congress.gov/bill/104th-congress/senate-bill/39/text?r=1&s=2&format=txt  \n",
       "4      https://www.congress.gov/bill/104th-congress/senate-bill/178/text?r=1&s=2&format=txt  \n",
       "...                                                                                     ...  \n",
       "1476  https://www.congress.gov/bill/116th-congress/senate-bill/4116/text?r=1&s=2&format=txt  \n",
       "1477  https://www.congress.gov/bill/116th-congress/senate-bill/4148/text?r=1&s=2&format=txt  \n",
       "1478  https://www.congress.gov/bill/116th-congress/senate-bill/4209/text?r=1&s=2&format=txt  \n",
       "1479  https://www.congress.gov/bill/116th-congress/senate-bill/4762/text?r=1&s=2&format=txt  \n",
       "1480  https://www.congress.gov/bill/116th-congress/senate-bill/4902/text?r=1&s=2&format=txt  \n",
       "\n",
       "[1481 rows x 3 columns]"
      ]
     },
     "execution_count": 9,
     "metadata": {},
     "output_type": "execute_result"
    }
   ],
   "source": [
    "pd.set_option('display.max_colwidth', None)\n",
    "bills_to_scrape = pd.read_csv('senate_bills_to_scrape.csv')\n",
    "bills_to_scrape = bills_to_scrape.sort_values(by=['congress', 'bill_number']).reset_index(drop=True)\n",
    "bills_to_scrape"
   ]
  },
  {
   "cell_type": "markdown",
   "id": "9a325400-7849-4d02-b103-79361894f6bf",
   "metadata": {},
   "source": [
    "## 4.3: Saving a copy of the senate_bills_to_scrape dataframe called senate_bills_df as a backup "
   ]
  },
  {
   "cell_type": "code",
   "execution_count": 19,
   "id": "34bbbf7f-a86a-485f-8830-8213f9adc114",
   "metadata": {},
   "outputs": [],
   "source": [
    "senate_bills_df = bills_to_scrape.copy()"
   ]
  },
  {
   "cell_type": "markdown",
   "id": "439ed3b4-3192-4685-90ef-a51f00389804",
   "metadata": {},
   "source": [
    "## 4.4: Converting the senate_bills_to_scrape dataframe into a json file called bills that we can loop through "
   ]
  },
  {
   "cell_type": "code",
   "execution_count": 20,
   "id": "8d73e752-44a0-4ca6-a247-6130f8749d5b",
   "metadata": {},
   "outputs": [],
   "source": [
    "bills = json.loads(bills_to_scrape.to_json(orient='records'))"
   ]
  },
  {
   "cell_type": "markdown",
   "id": "60d92bf7-7300-4391-8628-7d7d04c47073",
   "metadata": {},
   "source": [
    "## 4.5: Using a for loop and Beautiful Soup to navigate to each bill URL, identify the component of the page that contains the full bill text, get the text, clean it up, get the word count, and store it in a new column called 'word_count'"
   ]
  },
  {
   "cell_type": "code",
   "execution_count": 38,
   "id": "3e30460b-8336-4ae5-88f1-a167fea0ac99",
   "metadata": {},
   "outputs": [],
   "source": [
    "# Making the punctuation table before the loop, which will be used to replace punctuation with space in the loop\n",
    "punctuation_table = str.maketrans({key: ' ' for key in string.punctuation})"
   ]
  },
  {
   "cell_type": "code",
   "execution_count": 43,
   "id": "5b3fb738-54ab-4a7b-8257-b80f401f2ec2",
   "metadata": {},
   "outputs": [
    {
     "data": {
      "application/vnd.jupyter.widget-view+json": {
       "model_id": "6acddf8ec15f414abe6fed1add357ca7",
       "version_major": 2,
       "version_minor": 0
      },
      "text/plain": [
       "  0%|          | 0/1481 [00:00<?, ?it/s]"
      ]
     },
     "metadata": {},
     "output_type": "display_data"
    },
    {
     "name": "stdout",
     "output_type": "stream",
     "text": [
      "passed!\n"
     ]
    }
   ],
   "source": [
    "for bill in tqdm(bills):\n",
    "# for bill in tqdm(bills[0:290]): # run this line if you want the first 290\n",
    "    congress = bill['congress']\n",
    "    bill_number = bill['bill_number']\n",
    "    bill_url = bill['url']\n",
    "    \n",
    "    with open(f'pages/senate/{congress}_{ bill_number }.html', 'r') as f:\n",
    "\n",
    "        # Parse the page with bs4\n",
    "        soup = BeautifulSoup(f.read(), features='html.parser')\n",
    "\n",
    "        # Find and get what's inside `id='billTextContainer'`\n",
    "        bill_text_container = soup.find(id='billTextContainer')\n",
    "        \n",
    "        try:\n",
    "            bill_text = bill_text_container.get_text()\n",
    "\n",
    "            # Clean up the bill text\n",
    "\n",
    "            # Replace punctuation with space\n",
    "            bill_text_cleaned = bill_text.translate(punctuation_table)\n",
    "\n",
    "            # Replace new lines with space\n",
    "            bill_text_cleaned = re.sub('\\\\n', ' ', bill_text_cleaned)\n",
    "\n",
    "            # Replace multiple spaces with one space\n",
    "            bill_text_cleaned = re.sub('\\s{2,}', ' ', bill_text_cleaned)\n",
    "\n",
    "            # Get the word count\n",
    "            bill_word_count = len(bill_text_cleaned.split())\n",
    "\n",
    "            # Save the word count into the dataframe\n",
    "            senate_bills_df.loc[\n",
    "                (senate_bills_df['bill_number'] == bill_number) & (senate_bills_df['congress'] == congress), 'word_count'\n",
    "            ] = bill_word_count\n",
    "            \n",
    "        except:\n",
    "            print('passed!')\n",
    "            pass"
   ]
  },
  {
   "cell_type": "code",
   "execution_count": 45,
   "id": "b056fe7b-a918-4fd3-bdb8-54a993d90ead",
   "metadata": {},
   "outputs": [
    {
     "data": {
      "text/html": [
       "<div>\n",
       "<style scoped>\n",
       "    .dataframe tbody tr th:only-of-type {\n",
       "        vertical-align: middle;\n",
       "    }\n",
       "\n",
       "    .dataframe tbody tr th {\n",
       "        vertical-align: top;\n",
       "    }\n",
       "\n",
       "    .dataframe thead th {\n",
       "        text-align: right;\n",
       "    }\n",
       "</style>\n",
       "<table border=\"1\" class=\"dataframe\">\n",
       "  <thead>\n",
       "    <tr style=\"text-align: right;\">\n",
       "      <th></th>\n",
       "      <th>congress</th>\n",
       "      <th>bill_number</th>\n",
       "      <th>url</th>\n",
       "      <th>word_count</th>\n",
       "    </tr>\n",
       "  </thead>\n",
       "  <tbody>\n",
       "    <tr>\n",
       "      <th>0</th>\n",
       "      <td>104</td>\n",
       "      <td>1</td>\n",
       "      <td>https://www.congress.gov/bill/104th-congress/senate-bill/1/text?r=1&amp;s=2&amp;format=txt</td>\n",
       "      <td>10498.0</td>\n",
       "    </tr>\n",
       "    <tr>\n",
       "      <th>1</th>\n",
       "      <td>104</td>\n",
       "      <td>2</td>\n",
       "      <td>https://www.congress.gov/bill/104th-congress/senate-bill/2/text?r=1&amp;s=2&amp;format=txt</td>\n",
       "      <td>19733.0</td>\n",
       "    </tr>\n",
       "    <tr>\n",
       "      <th>2</th>\n",
       "      <td>104</td>\n",
       "      <td>4</td>\n",
       "      <td>https://www.congress.gov/bill/104th-congress/senate-bill/4/text?r=1&amp;s=2&amp;format=txt</td>\n",
       "      <td>6164.0</td>\n",
       "    </tr>\n",
       "    <tr>\n",
       "      <th>3</th>\n",
       "      <td>104</td>\n",
       "      <td>39</td>\n",
       "      <td>https://www.congress.gov/bill/104th-congress/senate-bill/39/text?r=1&amp;s=2&amp;format=txt</td>\n",
       "      <td>29252.0</td>\n",
       "    </tr>\n",
       "    <tr>\n",
       "      <th>4</th>\n",
       "      <td>104</td>\n",
       "      <td>178</td>\n",
       "      <td>https://www.congress.gov/bill/104th-congress/senate-bill/178/text?r=1&amp;s=2&amp;format=txt</td>\n",
       "      <td>184.0</td>\n",
       "    </tr>\n",
       "    <tr>\n",
       "      <th>...</th>\n",
       "      <td>...</td>\n",
       "      <td>...</td>\n",
       "      <td>...</td>\n",
       "      <td>...</td>\n",
       "    </tr>\n",
       "    <tr>\n",
       "      <th>1476</th>\n",
       "      <td>116</td>\n",
       "      <td>4116</td>\n",
       "      <td>https://www.congress.gov/bill/116th-congress/senate-bill/4116/text?r=1&amp;s=2&amp;format=txt</td>\n",
       "      <td>283.0</td>\n",
       "    </tr>\n",
       "    <tr>\n",
       "      <th>1477</th>\n",
       "      <td>116</td>\n",
       "      <td>4148</td>\n",
       "      <td>https://www.congress.gov/bill/116th-congress/senate-bill/4148/text?r=1&amp;s=2&amp;format=txt</td>\n",
       "      <td>170.0</td>\n",
       "    </tr>\n",
       "    <tr>\n",
       "      <th>1478</th>\n",
       "      <td>116</td>\n",
       "      <td>4209</td>\n",
       "      <td>https://www.congress.gov/bill/116th-congress/senate-bill/4209/text?r=1&amp;s=2&amp;format=txt</td>\n",
       "      <td>375.0</td>\n",
       "    </tr>\n",
       "    <tr>\n",
       "      <th>1479</th>\n",
       "      <td>116</td>\n",
       "      <td>4762</td>\n",
       "      <td>https://www.congress.gov/bill/116th-congress/senate-bill/4762/text?r=1&amp;s=2&amp;format=txt</td>\n",
       "      <td>182.0</td>\n",
       "    </tr>\n",
       "    <tr>\n",
       "      <th>1480</th>\n",
       "      <td>116</td>\n",
       "      <td>4902</td>\n",
       "      <td>https://www.congress.gov/bill/116th-congress/senate-bill/4902/text?r=1&amp;s=2&amp;format=txt</td>\n",
       "      <td>174.0</td>\n",
       "    </tr>\n",
       "  </tbody>\n",
       "</table>\n",
       "<p>1481 rows × 4 columns</p>\n",
       "</div>"
      ],
      "text/plain": [
       "      congress  bill_number  \\\n",
       "0          104            1   \n",
       "1          104            2   \n",
       "2          104            4   \n",
       "3          104           39   \n",
       "4          104          178   \n",
       "...        ...          ...   \n",
       "1476       116         4116   \n",
       "1477       116         4148   \n",
       "1478       116         4209   \n",
       "1479       116         4762   \n",
       "1480       116         4902   \n",
       "\n",
       "                                                                                        url  \\\n",
       "0        https://www.congress.gov/bill/104th-congress/senate-bill/1/text?r=1&s=2&format=txt   \n",
       "1        https://www.congress.gov/bill/104th-congress/senate-bill/2/text?r=1&s=2&format=txt   \n",
       "2        https://www.congress.gov/bill/104th-congress/senate-bill/4/text?r=1&s=2&format=txt   \n",
       "3       https://www.congress.gov/bill/104th-congress/senate-bill/39/text?r=1&s=2&format=txt   \n",
       "4      https://www.congress.gov/bill/104th-congress/senate-bill/178/text?r=1&s=2&format=txt   \n",
       "...                                                                                     ...   \n",
       "1476  https://www.congress.gov/bill/116th-congress/senate-bill/4116/text?r=1&s=2&format=txt   \n",
       "1477  https://www.congress.gov/bill/116th-congress/senate-bill/4148/text?r=1&s=2&format=txt   \n",
       "1478  https://www.congress.gov/bill/116th-congress/senate-bill/4209/text?r=1&s=2&format=txt   \n",
       "1479  https://www.congress.gov/bill/116th-congress/senate-bill/4762/text?r=1&s=2&format=txt   \n",
       "1480  https://www.congress.gov/bill/116th-congress/senate-bill/4902/text?r=1&s=2&format=txt   \n",
       "\n",
       "      word_count  \n",
       "0        10498.0  \n",
       "1        19733.0  \n",
       "2         6164.0  \n",
       "3        29252.0  \n",
       "4          184.0  \n",
       "...          ...  \n",
       "1476       283.0  \n",
       "1477       170.0  \n",
       "1478       375.0  \n",
       "1479       182.0  \n",
       "1480       174.0  \n",
       "\n",
       "[1481 rows x 4 columns]"
      ]
     },
     "execution_count": 45,
     "metadata": {},
     "output_type": "execute_result"
    }
   ],
   "source": [
    "#Taking a quick look at the dataframe\n",
    "pd.set_option('display.max_colwidth', None)\n",
    "senate_bills_df"
   ]
  },
  {
   "cell_type": "markdown",
   "id": "d611ddbf-d5c8-4b54-8711-cf9323e14da0",
   "metadata": {},
   "source": [
    "## 4.6: Export the updated dataframe to a CSV file for analysis"
   ]
  },
  {
   "cell_type": "code",
   "execution_count": 46,
   "id": "313a453a-e1fd-464f-8583-6b7d31710f8c",
   "metadata": {},
   "outputs": [],
   "source": [
    "senate_bills_df.to_csv('senate_bills.csv', index=False)"
   ]
  }
 ],
 "metadata": {
  "kernelspec": {
   "display_name": "Python 3 (ipykernel)",
   "language": "python",
   "name": "python3"
  },
  "language_info": {
   "codemirror_mode": {
    "name": "ipython",
    "version": 3
   },
   "file_extension": ".py",
   "mimetype": "text/x-python",
   "name": "python",
   "nbconvert_exporter": "python",
   "pygments_lexer": "ipython3",
   "version": "3.8.5"
  }
 },
 "nbformat": 4,
 "nbformat_minor": 5
}
