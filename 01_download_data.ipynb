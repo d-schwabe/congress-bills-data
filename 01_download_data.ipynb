{
 "cells": [
  {
   "cell_type": "markdown",
   "id": "4da00605-2d96-4e0b-8e58-0cf44bcd0ffe",
   "metadata": {},
   "source": [
    "# Download bulk datasets\n",
    "\n",
    "TK\n",
    "\n",
    "https://www.propublica.org/datastore/dataset/congressional-data-bulk-legislation-bills"
   ]
  },
  {
   "cell_type": "code",
   "execution_count": 6,
   "id": "95c818a1-aeb4-4a61-b43a-c737a73f64db",
   "metadata": {},
   "outputs": [],
   "source": [
    "import requests\n",
    "import zipfile\n",
    "import io\n",
    "from tqdm.notebook import tqdm"
   ]
  },
  {
   "cell_type": "code",
   "execution_count": 7,
   "id": "0e06bd1f-4b0f-4ec0-af38-3775371f10ea",
   "metadata": {},
   "outputs": [],
   "source": [
    "!mkdir -p data"
   ]
  },
  {
   "cell_type": "code",
   "execution_count": 8,
   "id": "11070a36-3238-44c0-9e7b-8ec883dea3be",
   "metadata": {},
   "outputs": [
    {
     "data": {
      "application/vnd.jupyter.widget-view+json": {
       "model_id": "391c49d015864b61964438c7ef573ee2",
       "version_major": 2,
       "version_minor": 0
      },
      "text/plain": [
       "  0%|          | 0/5 [00:00<?, ?it/s]"
      ]
     },
     "metadata": {},
     "output_type": "display_data"
    }
   ],
   "source": [
    "for n in tqdm(range(111, 116)):\n",
    "    url = f'https://s3.amazonaws.com/pp-projects-static/congress/bills/{n}.zip'\n",
    "    r = requests.get(url)\n",
    "    z = zipfile.ZipFile(io.BytesIO(r.content))\n",
    "    z.extractall(f'data/{n}')"
   ]
  }
 ],
 "metadata": {
  "kernelspec": {
   "display_name": "Python 3 (ipykernel)",
   "language": "python",
   "name": "python3"
  },
  "language_info": {
   "codemirror_mode": {
    "name": "ipython",
    "version": 3
   },
   "file_extension": ".py",
   "mimetype": "text/x-python",
   "name": "python",
   "nbconvert_exporter": "python",
   "pygments_lexer": "ipython3",
   "version": "3.8.5"
  }
 },
 "nbformat": 4,
 "nbformat_minor": 5
}
