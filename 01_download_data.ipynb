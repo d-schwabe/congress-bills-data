{
 "cells": [
  {
   "cell_type": "markdown",
   "id": "5a576d4d-de29-46df-8522-413b61decea2",
   "metadata": {},
   "source": [
    "# Part 1: Introduction and First Steps"
   ]
  },
  {
   "cell_type": "markdown",
   "id": "c3862dee-e210-4cbf-8e66-cfe42aabee74",
   "metadata": {},
   "source": [
    "# Introduction: Are New Federal Laws Getting Longer on Average and Shorter in Number?\n",
    "Discussions of democratic decline in the United States have grown immensely, especially in the years since the election of former president Donald Trump in 2016. While voter-facing affronts on the electoral system such as camaign finance, voter supression, and gerrymandering have all drawn well-deserved attention from activists, members of the media, and researchers, less is known about the state of our democracy *inside* the halls of Congress. While its broadly understood that corporate capture and the influence of wealthy elites over the legislative process is a growing problem, less is known about how congresssional processes have changed over time. \n",
    "\n",
    "One major claim that I had heard from congressional commentators was that legislation is becoming more concentrated into massive, so-called omnibus bills, where corrupt payouts and bizarr, unpopular laws that benefit the elite and corporations can be buried under a mountain of words. Anecdotal accounts from some members of congress and activists seemed plausible, but no one had proven them empirically--until now. The goal of this data-driven research project is to draw upon the vast, publically available datasets on bills that have been enacted into law (meaning passed by both houses of Congress and signed by the president), including metatdata and full text of the bills themselves, to attempt to answer this question. Starting with a manageable but still vast sample of the last ten congressional sessions (each session spanning 2 years), I will examine every piece of legislation enacted over the nearly 20 years between 1999 and 2018 to illuminate just how conerned citizens should be about the alleged concentration of federal lawmaking."
   ]
  },
  {
   "cell_type": "markdown",
   "id": "4da00605-2d96-4e0b-8e58-0cf44bcd0ffe",
   "metadata": {},
   "source": [
    "# Step 1: Download bulk datasets from ProPublica's Congress Database\n",
    "The nonprofit investigative news outlet, ProPublica maintains a complete database of all legislation that has been introduced in the U.S. Congress. It draws this publically available data from the government website, Congress.gov, and packages it all in a set of zip files arranged by the legislative year (which spans two calendar years). It includes metadata on each bill, including sponsors, cosponsors, committee actions, floor votes and a summary, in addition to the last date of modification. This data source bulk download can be found here: https://www.propublica.org/datastore/dataset/congressional-data-bulk-legislation-bills, although the actual files themselves are hosted on an amazon web services URL (visible below).\n",
    "\n",
    "This Jupyter notebook is devoted to the sole task of downloading the bulk data on all bills for the Congressional sessions that I am interested in. For the purpose of this analysis, I will be examining the 10 full Congressional sessions from the 106th Congress through the 115th, spanning roughly a 19-year period from 1999-2018. After some research, I determined this period to reach far back enough to be informative while still serving as a manageable dataset for the scope of this project. The datasets intentionally excludes the current 116th and 117th Congress, since data was found to be missing for several bills passed during the 116th and the 117th has not yet concluded."
   ]
  },
  {
   "cell_type": "markdown",
   "id": "0992010c-cf94-4d90-9e4e-f5dbd762b5ae",
   "metadata": {},
   "source": [
    "## 1.1: Importing relevant packages"
   ]
  },
  {
   "cell_type": "code",
   "execution_count": 3,
   "id": "95c818a1-aeb4-4a61-b43a-c737a73f64db",
   "metadata": {},
   "outputs": [],
   "source": [
    "import requests\n",
    "import zipfile\n",
    "import io\n",
    "from tqdm.notebook import tqdm"
   ]
  },
  {
   "cell_type": "markdown",
   "id": "e403e681-bb1b-45f6-b917-c0b50334408a",
   "metadata": {},
   "source": [
    "## 1.2: Creating a new directory called `data`\n",
    "\n",
    "We will store the downloaded zip files for each session here."
   ]
  },
  {
   "cell_type": "code",
   "execution_count": 7,
   "id": "0e06bd1f-4b0f-4ec0-af38-3775371f10ea",
   "metadata": {},
   "outputs": [],
   "source": [
    "!mkdir -p data"
   ]
  },
  {
   "cell_type": "markdown",
   "id": "69c192a3-4f0e-4f42-8cb2-6fbe134467cb",
   "metadata": {},
   "source": [
    "## 1.3: Download data \n",
    "\n",
    "I use a for loop that specifies only the desired congressional sessions (106-116).\n",
    "\n",
    "Because I already downloaded data for congresses 111-116th congresses, I comment that code out below."
   ]
  },
  {
   "cell_type": "code",
   "execution_count": 8,
   "id": "11070a36-3238-44c0-9e7b-8ec883dea3be",
   "metadata": {},
   "outputs": [
    {
     "data": {
      "application/vnd.jupyter.widget-view+json": {
       "model_id": "391c49d015864b61964438c7ef573ee2",
       "version_major": 2,
       "version_minor": 0
      },
      "text/plain": [
       "  0%|          | 0/5 [00:00<?, ?it/s]"
      ]
     },
     "metadata": {},
     "output_type": "display_data"
    }
   ],
   "source": [
    "# for n in tqdm(range(111, 116)):\n",
    "#     url = f'https://s3.amazonaws.com/pp-projects-static/congress/bills/{n}.zip'\n",
    "#     r = requests.get(url)\n",
    "#     z = zipfile.ZipFile(io.BytesIO(r.content))\n",
    "#     z.extractall(f'data/{n}')"
   ]
  },
  {
   "cell_type": "code",
   "execution_count": 4,
   "id": "d87845fb-8c76-4d25-89d7-17cc860bcdf0",
   "metadata": {},
   "outputs": [
    {
     "data": {
      "application/vnd.jupyter.widget-view+json": {
       "model_id": "f6961690afa846459d9ec21cd32151cc",
       "version_major": 2,
       "version_minor": 0
      },
      "text/plain": [
       "  0%|          | 0/6 [00:00<?, ?it/s]"
      ]
     },
     "metadata": {},
     "output_type": "display_data"
    }
   ],
   "source": [
    "# download data for 106th-110th congresses\n",
    "for n in tqdm( list(range(106, 111)) ):\n",
    "    url = f'https://s3.amazonaws.com/pp-projects-static/congress/bills/{n}.zip'\n",
    "    r = requests.get(url)\n",
    "    z = zipfile.ZipFile(io.BytesIO(r.content))\n",
    "    z.extractall(f'data/{n}')"
   ]
  }
 ],
 "metadata": {
  "kernelspec": {
   "display_name": "Python 3 (ipykernel)",
   "language": "python",
   "name": "python3"
  },
  "language_info": {
   "codemirror_mode": {
    "name": "ipython",
    "version": 3
   },
   "file_extension": ".py",
   "mimetype": "text/x-python",
   "name": "python",
   "nbconvert_exporter": "python",
   "pygments_lexer": "ipython3",
   "version": "3.8.5"
  }
 },
 "nbformat": 4,
 "nbformat_minor": 5
}
